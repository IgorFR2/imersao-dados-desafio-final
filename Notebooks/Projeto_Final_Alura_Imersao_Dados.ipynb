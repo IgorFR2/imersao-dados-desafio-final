{
  "nbformat": 4,
  "nbformat_minor": 0,
  "metadata": {
    "colab": {
      "name": "Projeto_Final_Alura_Imersao_Dados.ipynb",
      "provenance": [],
      "collapsed_sections": [],
      "authorship_tag": "ABX9TyM9CCWiO8SNVW2AOhEOkCkl",
      "include_colab_link": true
    },
    "kernelspec": {
      "name": "python386jvsc74a57bd013323be5fda2d4980d376e1172240ec11a3167b6c5f069fd666aba5323f44a52",
      "display_name": "Python 3.8.6 64-bit"
    },
    "language_info": {
      "name": "python",
      "version": "3.8.6"
    }
  },
  "cells": [
    {
      "cell_type": "markdown",
      "metadata": {
        "id": "view-in-github",
        "colab_type": "text"
      },
      "source": [
        "<a href=\"https://colab.research.google.com/github/IgorFR2/imersao-dados-desafio-final/blob/main/Notebooks/Projeto_Final_Alura_Imersao_Dados.ipynb\" target=\"_parent\"><img src=\"https://colab.research.google.com/assets/colab-badge.svg\" alt=\"Open In Colab\"/></a>"
      ]
    },
    {
      "source": [
        "# Projeto final da \"Imersão de Dados\" da \"Alura\".\n",
        "Este projeto visa completude do treinamento desta semana (02/05/2021 - 07/05/2021)."
      ],
      "cell_type": "markdown",
      "metadata": {
        "id": "1X7aH5T5MDbQ"
      }
    },
    {
      "source": [
        "# Visão Geral\n",
        "A amostra dada contém diversos tipos de mecanismos de ação (MOA's). Das informações fornecidas temos diversos componentes já classificados e suas influências na expressão de genes e células. Sendo assim, existe a possibilidade de criar um modelo capaz de classificar o MOA de uma substância por meio das alterações de expressões celulares. Para este fim foi escolhido o mecanismo \"agonist\".\n"
      ],
      "cell_type": "markdown",
      "metadata": {}
    },
    {
      "source": [
        "## Objetivos:\n",
        "Classificação de compostos com mecanismo de ação (MOA) **\"agonist\"**."
      ],
      "cell_type": "markdown",
      "metadata": {}
    },
    {
      "source": [
        "## Metodologia:\n",
        "1. Contagem dos mecanismos de ação das drogas presentes no dataset.\n",
        "2. Ajuste de estrutura de dados.\n",
        "3. Criação de amostras de testes.\n",
        "4. Testes com modelos apresentados em aula.\n",
        "5. Discussão dos resultados"
      ],
      "cell_type": "markdown",
      "metadata": {}
    },
    {
      "source": [
        "## Ferramentas e dados utilizados"
      ],
      "cell_type": "markdown",
      "metadata": {}
    },
    {
      "source": [
        "### Bibliotecas usadas."
      ],
      "cell_type": "markdown",
      "metadata": {}
    },
    {
      "cell_type": "code",
      "execution_count": 149,
      "metadata": {},
      "outputs": [],
      "source": [
        "import pandas as pd\n",
        "import numpy as np\n",
        "import matplotlib.pyplot as plt\n",
        "\n",
        "# Função de \"grid\" para plotagem de gráficos \n",
        "import matplotlib.gridspec as gridspec\n",
        "\n",
        "# Biblioteca para plotagens estilizadas\n",
        "import seaborn as sns\n",
        "\n",
        "# Funções para criação de modelos de ML\n",
        "from sklearn.linear_model import LogisticRegression\n",
        "from sklearn.ensemble import RandomForestClassifier\n",
        "from sklearn.tree import DecisionTreeClassifier\n",
        "\n",
        "# Funções auxiliares à geração de modelos\n",
        "from sklearn.model_selection import train_test_split\n",
        "from sklearn.dummy import DummyClassifier\n",
        "from sklearn.metrics import accuracy_score\n",
        "\n"
      ]
    },
    {
      "source": [
        "### Dados fornecidos\n",
        "* Os dados fornecidos estão divididos em 2 arquivos:\n",
        "1. Um arquivo contendo o tratamento da amostra (aplicação direta de químico ou grupo control), compostos químicos(droga), tempo de análise, quantidade de doses, influência em cada gene (expressão gênica) e célula.\n",
        "2. Um arquivo com os resultados empíricos da exposição das amostras celulares/gênicas aos compostos químicos, com tempo, doses e tratamento aplicado.\n",
        "* Os valores das colunas de genes (g-1~771) representam a expressão gênica, isto é, o aumento ou diminuição (caso positivo ou negativo, respectivamente) na produção de proteínas dado um estímulo (droga/tratamento).\n",
        "* As drogas podem ter resultado Agonista, Antagonista, Ativador, Inibidor entre outros."
      ],
      "cell_type": "markdown",
      "metadata": {}
    },
    {
      "source": [
        "dados = pd.read_csv('../Dados/dados_experimentos.zip', compression='zip')"
      ],
      "cell_type": "code",
      "metadata": {},
      "execution_count": 56,
      "outputs": []
    },
    {
      "cell_type": "code",
      "execution_count": 57,
      "metadata": {},
      "outputs": [
        {
          "output_type": "execute_result",
          "data": {
            "text/plain": [
              "             id tratamento  tempo dose      droga     g-0     g-1     g-2  \\\n",
              "0  id_000644bb2  com_droga     24   D1  b68db1d53  1.0620  0.5577 -0.2479   \n",
              "1  id_000779bfc  com_droga     72   D1  df89a8e5a  0.0743  0.4087  0.2991   \n",
              "2  id_000a6266a  com_droga     48   D1  18bb41b2c  0.6280  0.5817  1.5540   \n",
              "3  id_0015fd391  com_droga     48   D1  8c7f86626 -0.5138 -0.2491 -0.2656   \n",
              "4  id_001626bd3  com_droga     72   D2  7cbed3131 -0.3254 -0.4009  0.9700   \n",
              "\n",
              "      g-3     g-4  ...    c-90    c-91    c-92    c-93    c-94    c-95  \\\n",
              "0 -0.6208 -0.1944  ...  0.2862  0.2584  0.8076  0.5523 -0.1912  0.6584   \n",
              "1  0.0604  1.0190  ... -0.4265  0.7543  0.4708  0.0230  0.2957  0.4899   \n",
              "2 -0.0764 -0.0323  ... -0.7250 -0.6297  0.6103  0.0223 -1.3240 -0.3174   \n",
              "3  0.5288  4.0620  ... -2.0990 -0.6441 -5.6300 -1.3780 -0.8632 -1.2880   \n",
              "4  0.6919  1.4180  ...  0.0042  0.0048  0.6670  1.0690  0.5523 -0.3031   \n",
              "\n",
              "     c-96    c-97    c-98    c-99  \n",
              "0 -0.3981  0.2139  0.3801  0.4176  \n",
              "1  0.1522  0.1241  0.6077  0.7371  \n",
              "2 -0.6417 -0.2187 -1.4080  0.6931  \n",
              "3 -1.6210 -0.8784 -0.3876 -0.8154  \n",
              "4  0.1094  0.2885 -0.3786  0.7125  \n",
              "\n",
              "[5 rows x 877 columns]"
            ],
            "text/html": "<div>\n<style scoped>\n    .dataframe tbody tr th:only-of-type {\n        vertical-align: middle;\n    }\n\n    .dataframe tbody tr th {\n        vertical-align: top;\n    }\n\n    .dataframe thead th {\n        text-align: right;\n    }\n</style>\n<table border=\"1\" class=\"dataframe\">\n  <thead>\n    <tr style=\"text-align: right;\">\n      <th></th>\n      <th>id</th>\n      <th>tratamento</th>\n      <th>tempo</th>\n      <th>dose</th>\n      <th>droga</th>\n      <th>g-0</th>\n      <th>g-1</th>\n      <th>g-2</th>\n      <th>g-3</th>\n      <th>g-4</th>\n      <th>...</th>\n      <th>c-90</th>\n      <th>c-91</th>\n      <th>c-92</th>\n      <th>c-93</th>\n      <th>c-94</th>\n      <th>c-95</th>\n      <th>c-96</th>\n      <th>c-97</th>\n      <th>c-98</th>\n      <th>c-99</th>\n    </tr>\n  </thead>\n  <tbody>\n    <tr>\n      <th>0</th>\n      <td>id_000644bb2</td>\n      <td>com_droga</td>\n      <td>24</td>\n      <td>D1</td>\n      <td>b68db1d53</td>\n      <td>1.0620</td>\n      <td>0.5577</td>\n      <td>-0.2479</td>\n      <td>-0.6208</td>\n      <td>-0.1944</td>\n      <td>...</td>\n      <td>0.2862</td>\n      <td>0.2584</td>\n      <td>0.8076</td>\n      <td>0.5523</td>\n      <td>-0.1912</td>\n      <td>0.6584</td>\n      <td>-0.3981</td>\n      <td>0.2139</td>\n      <td>0.3801</td>\n      <td>0.4176</td>\n    </tr>\n    <tr>\n      <th>1</th>\n      <td>id_000779bfc</td>\n      <td>com_droga</td>\n      <td>72</td>\n      <td>D1</td>\n      <td>df89a8e5a</td>\n      <td>0.0743</td>\n      <td>0.4087</td>\n      <td>0.2991</td>\n      <td>0.0604</td>\n      <td>1.0190</td>\n      <td>...</td>\n      <td>-0.4265</td>\n      <td>0.7543</td>\n      <td>0.4708</td>\n      <td>0.0230</td>\n      <td>0.2957</td>\n      <td>0.4899</td>\n      <td>0.1522</td>\n      <td>0.1241</td>\n      <td>0.6077</td>\n      <td>0.7371</td>\n    </tr>\n    <tr>\n      <th>2</th>\n      <td>id_000a6266a</td>\n      <td>com_droga</td>\n      <td>48</td>\n      <td>D1</td>\n      <td>18bb41b2c</td>\n      <td>0.6280</td>\n      <td>0.5817</td>\n      <td>1.5540</td>\n      <td>-0.0764</td>\n      <td>-0.0323</td>\n      <td>...</td>\n      <td>-0.7250</td>\n      <td>-0.6297</td>\n      <td>0.6103</td>\n      <td>0.0223</td>\n      <td>-1.3240</td>\n      <td>-0.3174</td>\n      <td>-0.6417</td>\n      <td>-0.2187</td>\n      <td>-1.4080</td>\n      <td>0.6931</td>\n    </tr>\n    <tr>\n      <th>3</th>\n      <td>id_0015fd391</td>\n      <td>com_droga</td>\n      <td>48</td>\n      <td>D1</td>\n      <td>8c7f86626</td>\n      <td>-0.5138</td>\n      <td>-0.2491</td>\n      <td>-0.2656</td>\n      <td>0.5288</td>\n      <td>4.0620</td>\n      <td>...</td>\n      <td>-2.0990</td>\n      <td>-0.6441</td>\n      <td>-5.6300</td>\n      <td>-1.3780</td>\n      <td>-0.8632</td>\n      <td>-1.2880</td>\n      <td>-1.6210</td>\n      <td>-0.8784</td>\n      <td>-0.3876</td>\n      <td>-0.8154</td>\n    </tr>\n    <tr>\n      <th>4</th>\n      <td>id_001626bd3</td>\n      <td>com_droga</td>\n      <td>72</td>\n      <td>D2</td>\n      <td>7cbed3131</td>\n      <td>-0.3254</td>\n      <td>-0.4009</td>\n      <td>0.9700</td>\n      <td>0.6919</td>\n      <td>1.4180</td>\n      <td>...</td>\n      <td>0.0042</td>\n      <td>0.0048</td>\n      <td>0.6670</td>\n      <td>1.0690</td>\n      <td>0.5523</td>\n      <td>-0.3031</td>\n      <td>0.1094</td>\n      <td>0.2885</td>\n      <td>-0.3786</td>\n      <td>0.7125</td>\n    </tr>\n  </tbody>\n</table>\n<p>5 rows × 877 columns</p>\n</div>"
          },
          "metadata": {},
          "execution_count": 57
        }
      ],
      "source": [
        "dados.head()"
      ]
    },
    {
      "cell_type": "code",
      "execution_count": 58,
      "metadata": {},
      "outputs": [],
      "source": [
        "dados_resultados = pd.read_csv('../Dados/dados_resultados.csv')"
      ]
    },
    {
      "cell_type": "code",
      "execution_count": 59,
      "metadata": {},
      "outputs": [
        {
          "output_type": "execute_result",
          "data": {
            "text/plain": [
              "             id  5-alpha_reductase_inhibitor  11-beta-hsd1_inhibitor  \\\n",
              "0  id_000644bb2                            0                       0   \n",
              "1  id_000779bfc                            0                       0   \n",
              "2  id_000a6266a                            0                       0   \n",
              "3  id_0015fd391                            0                       0   \n",
              "4  id_001626bd3                            0                       0   \n",
              "\n",
              "   acat_inhibitor  acetylcholine_receptor_agonist  \\\n",
              "0               0                               0   \n",
              "1               0                               0   \n",
              "2               0                               0   \n",
              "3               0                               0   \n",
              "4               0                               0   \n",
              "\n",
              "   acetylcholine_receptor_antagonist  acetylcholinesterase_inhibitor  \\\n",
              "0                                  0                               0   \n",
              "1                                  0                               0   \n",
              "2                                  0                               0   \n",
              "3                                  0                               0   \n",
              "4                                  0                               0   \n",
              "\n",
              "   adenosine_receptor_agonist  adenosine_receptor_antagonist  \\\n",
              "0                           0                              0   \n",
              "1                           0                              0   \n",
              "2                           0                              0   \n",
              "3                           0                              0   \n",
              "4                           0                              0   \n",
              "\n",
              "   adenylyl_cyclase_activator  ...  tropomyosin_receptor_kinase_inhibitor  \\\n",
              "0                           0  ...                                      0   \n",
              "1                           0  ...                                      0   \n",
              "2                           0  ...                                      0   \n",
              "3                           0  ...                                      0   \n",
              "4                           0  ...                                      0   \n",
              "\n",
              "   trpv_agonist  trpv_antagonist  tubulin_inhibitor  \\\n",
              "0             0                0                  0   \n",
              "1             0                0                  0   \n",
              "2             0                0                  0   \n",
              "3             0                0                  0   \n",
              "4             0                0                  0   \n",
              "\n",
              "   tyrosine_kinase_inhibitor  ubiquitin_specific_protease_inhibitor  \\\n",
              "0                          0                                      0   \n",
              "1                          0                                      0   \n",
              "2                          0                                      0   \n",
              "3                          0                                      0   \n",
              "4                          0                                      0   \n",
              "\n",
              "   vegfr_inhibitor  vitamin_b  vitamin_d_receptor_agonist  wnt_inhibitor  \n",
              "0                0          0                           0              0  \n",
              "1                0          0                           0              0  \n",
              "2                0          0                           0              0  \n",
              "3                0          0                           0              0  \n",
              "4                0          0                           0              0  \n",
              "\n",
              "[5 rows x 207 columns]"
            ],
            "text/html": "<div>\n<style scoped>\n    .dataframe tbody tr th:only-of-type {\n        vertical-align: middle;\n    }\n\n    .dataframe tbody tr th {\n        vertical-align: top;\n    }\n\n    .dataframe thead th {\n        text-align: right;\n    }\n</style>\n<table border=\"1\" class=\"dataframe\">\n  <thead>\n    <tr style=\"text-align: right;\">\n      <th></th>\n      <th>id</th>\n      <th>5-alpha_reductase_inhibitor</th>\n      <th>11-beta-hsd1_inhibitor</th>\n      <th>acat_inhibitor</th>\n      <th>acetylcholine_receptor_agonist</th>\n      <th>acetylcholine_receptor_antagonist</th>\n      <th>acetylcholinesterase_inhibitor</th>\n      <th>adenosine_receptor_agonist</th>\n      <th>adenosine_receptor_antagonist</th>\n      <th>adenylyl_cyclase_activator</th>\n      <th>...</th>\n      <th>tropomyosin_receptor_kinase_inhibitor</th>\n      <th>trpv_agonist</th>\n      <th>trpv_antagonist</th>\n      <th>tubulin_inhibitor</th>\n      <th>tyrosine_kinase_inhibitor</th>\n      <th>ubiquitin_specific_protease_inhibitor</th>\n      <th>vegfr_inhibitor</th>\n      <th>vitamin_b</th>\n      <th>vitamin_d_receptor_agonist</th>\n      <th>wnt_inhibitor</th>\n    </tr>\n  </thead>\n  <tbody>\n    <tr>\n      <th>0</th>\n      <td>id_000644bb2</td>\n      <td>0</td>\n      <td>0</td>\n      <td>0</td>\n      <td>0</td>\n      <td>0</td>\n      <td>0</td>\n      <td>0</td>\n      <td>0</td>\n      <td>0</td>\n      <td>...</td>\n      <td>0</td>\n      <td>0</td>\n      <td>0</td>\n      <td>0</td>\n      <td>0</td>\n      <td>0</td>\n      <td>0</td>\n      <td>0</td>\n      <td>0</td>\n      <td>0</td>\n    </tr>\n    <tr>\n      <th>1</th>\n      <td>id_000779bfc</td>\n      <td>0</td>\n      <td>0</td>\n      <td>0</td>\n      <td>0</td>\n      <td>0</td>\n      <td>0</td>\n      <td>0</td>\n      <td>0</td>\n      <td>0</td>\n      <td>...</td>\n      <td>0</td>\n      <td>0</td>\n      <td>0</td>\n      <td>0</td>\n      <td>0</td>\n      <td>0</td>\n      <td>0</td>\n      <td>0</td>\n      <td>0</td>\n      <td>0</td>\n    </tr>\n    <tr>\n      <th>2</th>\n      <td>id_000a6266a</td>\n      <td>0</td>\n      <td>0</td>\n      <td>0</td>\n      <td>0</td>\n      <td>0</td>\n      <td>0</td>\n      <td>0</td>\n      <td>0</td>\n      <td>0</td>\n      <td>...</td>\n      <td>0</td>\n      <td>0</td>\n      <td>0</td>\n      <td>0</td>\n      <td>0</td>\n      <td>0</td>\n      <td>0</td>\n      <td>0</td>\n      <td>0</td>\n      <td>0</td>\n    </tr>\n    <tr>\n      <th>3</th>\n      <td>id_0015fd391</td>\n      <td>0</td>\n      <td>0</td>\n      <td>0</td>\n      <td>0</td>\n      <td>0</td>\n      <td>0</td>\n      <td>0</td>\n      <td>0</td>\n      <td>0</td>\n      <td>...</td>\n      <td>0</td>\n      <td>0</td>\n      <td>0</td>\n      <td>0</td>\n      <td>0</td>\n      <td>0</td>\n      <td>0</td>\n      <td>0</td>\n      <td>0</td>\n      <td>0</td>\n    </tr>\n    <tr>\n      <th>4</th>\n      <td>id_001626bd3</td>\n      <td>0</td>\n      <td>0</td>\n      <td>0</td>\n      <td>0</td>\n      <td>0</td>\n      <td>0</td>\n      <td>0</td>\n      <td>0</td>\n      <td>0</td>\n      <td>...</td>\n      <td>0</td>\n      <td>0</td>\n      <td>0</td>\n      <td>0</td>\n      <td>0</td>\n      <td>0</td>\n      <td>0</td>\n      <td>0</td>\n      <td>0</td>\n      <td>0</td>\n    </tr>\n  </tbody>\n</table>\n<p>5 rows × 207 columns</p>\n</div>"
          },
          "metadata": {},
          "execution_count": 59
        }
      ],
      "source": [
        "dados_resultados.head()"
      ]
    },
    {
      "source": [
        "Adição de colunas \"n_moa\" e \"ativo_moa\"."
      ],
      "cell_type": "markdown",
      "metadata": {}
    },
    {
      "cell_type": "code",
      "execution_count": 60,
      "metadata": {},
      "outputs": [
        {
          "output_type": "execute_result",
          "data": {
            "text/plain": [
              "                 id  5-alpha_reductase_inhibitor  11-beta-hsd1_inhibitor  \\\n",
              "0      id_000644bb2                            0                       0   \n",
              "1      id_000779bfc                            0                       0   \n",
              "2      id_000a6266a                            0                       0   \n",
              "3      id_0015fd391                            0                       0   \n",
              "4      id_001626bd3                            0                       0   \n",
              "...             ...                          ...                     ...   \n",
              "23809  id_fffb1ceed                            0                       0   \n",
              "23810  id_fffb70c0c                            0                       0   \n",
              "23811  id_fffc1c3f4                            0                       0   \n",
              "23812  id_fffcb9e7c                            0                       0   \n",
              "23813  id_ffffdd77b                            0                       0   \n",
              "\n",
              "       acat_inhibitor  acetylcholine_receptor_agonist  \\\n",
              "0                   0                               0   \n",
              "1                   0                               0   \n",
              "2                   0                               0   \n",
              "3                   0                               0   \n",
              "4                   0                               0   \n",
              "...               ...                             ...   \n",
              "23809               0                               0   \n",
              "23810               0                               0   \n",
              "23811               0                               0   \n",
              "23812               0                               0   \n",
              "23813               0                               0   \n",
              "\n",
              "       acetylcholine_receptor_antagonist  acetylcholinesterase_inhibitor  \\\n",
              "0                                      0                               0   \n",
              "1                                      0                               0   \n",
              "2                                      0                               0   \n",
              "3                                      0                               0   \n",
              "4                                      0                               0   \n",
              "...                                  ...                             ...   \n",
              "23809                                  0                               0   \n",
              "23810                                  0                               0   \n",
              "23811                                  0                               0   \n",
              "23812                                  0                               0   \n",
              "23813                                  0                               0   \n",
              "\n",
              "       adenosine_receptor_agonist  adenosine_receptor_antagonist  \\\n",
              "0                               0                              0   \n",
              "1                               0                              0   \n",
              "2                               0                              0   \n",
              "3                               0                              0   \n",
              "4                               0                              0   \n",
              "...                           ...                            ...   \n",
              "23809                           0                              0   \n",
              "23810                           0                              0   \n",
              "23811                           0                              0   \n",
              "23812                           0                              0   \n",
              "23813                           0                              0   \n",
              "\n",
              "       adenylyl_cyclase_activator  ...  trpv_antagonist  tubulin_inhibitor  \\\n",
              "0                               0  ...                0                  0   \n",
              "1                               0  ...                0                  0   \n",
              "2                               0  ...                0                  0   \n",
              "3                               0  ...                0                  0   \n",
              "4                               0  ...                0                  0   \n",
              "...                           ...  ...              ...                ...   \n",
              "23809                           0  ...                0                  0   \n",
              "23810                           0  ...                0                  0   \n",
              "23811                           0  ...                0                  0   \n",
              "23812                           0  ...                0                  0   \n",
              "23813                           0  ...                0                  0   \n",
              "\n",
              "       tyrosine_kinase_inhibitor  ubiquitin_specific_protease_inhibitor  \\\n",
              "0                              0                                      0   \n",
              "1                              0                                      0   \n",
              "2                              0                                      0   \n",
              "3                              0                                      0   \n",
              "4                              0                                      0   \n",
              "...                          ...                                    ...   \n",
              "23809                          0                                      0   \n",
              "23810                          0                                      0   \n",
              "23811                          0                                      0   \n",
              "23812                          0                                      0   \n",
              "23813                          0                                      0   \n",
              "\n",
              "       vegfr_inhibitor  vitamin_b  vitamin_d_receptor_agonist  wnt_inhibitor  \\\n",
              "0                    0          0                           0              0   \n",
              "1                    0          0                           0              0   \n",
              "2                    0          0                           0              0   \n",
              "3                    0          0                           0              0   \n",
              "4                    0          0                           0              0   \n",
              "...                ...        ...                         ...            ...   \n",
              "23809                0          0                           0              0   \n",
              "23810                0          0                           0              0   \n",
              "23811                0          0                           0              0   \n",
              "23812                0          0                           0              0   \n",
              "23813                0          0                           0              0   \n",
              "\n",
              "       n_moa  ativo_moa  \n",
              "0          1       True  \n",
              "1          0      False  \n",
              "2          3       True  \n",
              "3          0      False  \n",
              "4          1       True  \n",
              "...      ...        ...  \n",
              "23809      1       True  \n",
              "23810      1       True  \n",
              "23811      0      False  \n",
              "23812      1       True  \n",
              "23813      0      False  \n",
              "\n",
              "[23814 rows x 209 columns]"
            ],
            "text/html": "<div>\n<style scoped>\n    .dataframe tbody tr th:only-of-type {\n        vertical-align: middle;\n    }\n\n    .dataframe tbody tr th {\n        vertical-align: top;\n    }\n\n    .dataframe thead th {\n        text-align: right;\n    }\n</style>\n<table border=\"1\" class=\"dataframe\">\n  <thead>\n    <tr style=\"text-align: right;\">\n      <th></th>\n      <th>id</th>\n      <th>5-alpha_reductase_inhibitor</th>\n      <th>11-beta-hsd1_inhibitor</th>\n      <th>acat_inhibitor</th>\n      <th>acetylcholine_receptor_agonist</th>\n      <th>acetylcholine_receptor_antagonist</th>\n      <th>acetylcholinesterase_inhibitor</th>\n      <th>adenosine_receptor_agonist</th>\n      <th>adenosine_receptor_antagonist</th>\n      <th>adenylyl_cyclase_activator</th>\n      <th>...</th>\n      <th>trpv_antagonist</th>\n      <th>tubulin_inhibitor</th>\n      <th>tyrosine_kinase_inhibitor</th>\n      <th>ubiquitin_specific_protease_inhibitor</th>\n      <th>vegfr_inhibitor</th>\n      <th>vitamin_b</th>\n      <th>vitamin_d_receptor_agonist</th>\n      <th>wnt_inhibitor</th>\n      <th>n_moa</th>\n      <th>ativo_moa</th>\n    </tr>\n  </thead>\n  <tbody>\n    <tr>\n      <th>0</th>\n      <td>id_000644bb2</td>\n      <td>0</td>\n      <td>0</td>\n      <td>0</td>\n      <td>0</td>\n      <td>0</td>\n      <td>0</td>\n      <td>0</td>\n      <td>0</td>\n      <td>0</td>\n      <td>...</td>\n      <td>0</td>\n      <td>0</td>\n      <td>0</td>\n      <td>0</td>\n      <td>0</td>\n      <td>0</td>\n      <td>0</td>\n      <td>0</td>\n      <td>1</td>\n      <td>True</td>\n    </tr>\n    <tr>\n      <th>1</th>\n      <td>id_000779bfc</td>\n      <td>0</td>\n      <td>0</td>\n      <td>0</td>\n      <td>0</td>\n      <td>0</td>\n      <td>0</td>\n      <td>0</td>\n      <td>0</td>\n      <td>0</td>\n      <td>...</td>\n      <td>0</td>\n      <td>0</td>\n      <td>0</td>\n      <td>0</td>\n      <td>0</td>\n      <td>0</td>\n      <td>0</td>\n      <td>0</td>\n      <td>0</td>\n      <td>False</td>\n    </tr>\n    <tr>\n      <th>2</th>\n      <td>id_000a6266a</td>\n      <td>0</td>\n      <td>0</td>\n      <td>0</td>\n      <td>0</td>\n      <td>0</td>\n      <td>0</td>\n      <td>0</td>\n      <td>0</td>\n      <td>0</td>\n      <td>...</td>\n      <td>0</td>\n      <td>0</td>\n      <td>0</td>\n      <td>0</td>\n      <td>0</td>\n      <td>0</td>\n      <td>0</td>\n      <td>0</td>\n      <td>3</td>\n      <td>True</td>\n    </tr>\n    <tr>\n      <th>3</th>\n      <td>id_0015fd391</td>\n      <td>0</td>\n      <td>0</td>\n      <td>0</td>\n      <td>0</td>\n      <td>0</td>\n      <td>0</td>\n      <td>0</td>\n      <td>0</td>\n      <td>0</td>\n      <td>...</td>\n      <td>0</td>\n      <td>0</td>\n      <td>0</td>\n      <td>0</td>\n      <td>0</td>\n      <td>0</td>\n      <td>0</td>\n      <td>0</td>\n      <td>0</td>\n      <td>False</td>\n    </tr>\n    <tr>\n      <th>4</th>\n      <td>id_001626bd3</td>\n      <td>0</td>\n      <td>0</td>\n      <td>0</td>\n      <td>0</td>\n      <td>0</td>\n      <td>0</td>\n      <td>0</td>\n      <td>0</td>\n      <td>0</td>\n      <td>...</td>\n      <td>0</td>\n      <td>0</td>\n      <td>0</td>\n      <td>0</td>\n      <td>0</td>\n      <td>0</td>\n      <td>0</td>\n      <td>0</td>\n      <td>1</td>\n      <td>True</td>\n    </tr>\n    <tr>\n      <th>...</th>\n      <td>...</td>\n      <td>...</td>\n      <td>...</td>\n      <td>...</td>\n      <td>...</td>\n      <td>...</td>\n      <td>...</td>\n      <td>...</td>\n      <td>...</td>\n      <td>...</td>\n      <td>...</td>\n      <td>...</td>\n      <td>...</td>\n      <td>...</td>\n      <td>...</td>\n      <td>...</td>\n      <td>...</td>\n      <td>...</td>\n      <td>...</td>\n      <td>...</td>\n      <td>...</td>\n    </tr>\n    <tr>\n      <th>23809</th>\n      <td>id_fffb1ceed</td>\n      <td>0</td>\n      <td>0</td>\n      <td>0</td>\n      <td>0</td>\n      <td>0</td>\n      <td>0</td>\n      <td>0</td>\n      <td>0</td>\n      <td>0</td>\n      <td>...</td>\n      <td>0</td>\n      <td>0</td>\n      <td>0</td>\n      <td>0</td>\n      <td>0</td>\n      <td>0</td>\n      <td>0</td>\n      <td>0</td>\n      <td>1</td>\n      <td>True</td>\n    </tr>\n    <tr>\n      <th>23810</th>\n      <td>id_fffb70c0c</td>\n      <td>0</td>\n      <td>0</td>\n      <td>0</td>\n      <td>0</td>\n      <td>0</td>\n      <td>0</td>\n      <td>0</td>\n      <td>0</td>\n      <td>0</td>\n      <td>...</td>\n      <td>0</td>\n      <td>0</td>\n      <td>0</td>\n      <td>0</td>\n      <td>0</td>\n      <td>0</td>\n      <td>0</td>\n      <td>0</td>\n      <td>1</td>\n      <td>True</td>\n    </tr>\n    <tr>\n      <th>23811</th>\n      <td>id_fffc1c3f4</td>\n      <td>0</td>\n      <td>0</td>\n      <td>0</td>\n      <td>0</td>\n      <td>0</td>\n      <td>0</td>\n      <td>0</td>\n      <td>0</td>\n      <td>0</td>\n      <td>...</td>\n      <td>0</td>\n      <td>0</td>\n      <td>0</td>\n      <td>0</td>\n      <td>0</td>\n      <td>0</td>\n      <td>0</td>\n      <td>0</td>\n      <td>0</td>\n      <td>False</td>\n    </tr>\n    <tr>\n      <th>23812</th>\n      <td>id_fffcb9e7c</td>\n      <td>0</td>\n      <td>0</td>\n      <td>0</td>\n      <td>0</td>\n      <td>0</td>\n      <td>0</td>\n      <td>0</td>\n      <td>0</td>\n      <td>0</td>\n      <td>...</td>\n      <td>0</td>\n      <td>0</td>\n      <td>0</td>\n      <td>0</td>\n      <td>0</td>\n      <td>0</td>\n      <td>0</td>\n      <td>0</td>\n      <td>1</td>\n      <td>True</td>\n    </tr>\n    <tr>\n      <th>23813</th>\n      <td>id_ffffdd77b</td>\n      <td>0</td>\n      <td>0</td>\n      <td>0</td>\n      <td>0</td>\n      <td>0</td>\n      <td>0</td>\n      <td>0</td>\n      <td>0</td>\n      <td>0</td>\n      <td>...</td>\n      <td>0</td>\n      <td>0</td>\n      <td>0</td>\n      <td>0</td>\n      <td>0</td>\n      <td>0</td>\n      <td>0</td>\n      <td>0</td>\n      <td>0</td>\n      <td>False</td>\n    </tr>\n  </tbody>\n</table>\n<p>23814 rows × 209 columns</p>\n</div>"
          },
          "metadata": {},
          "execution_count": 60
        }
      ],
      "source": [
        "dados_resultados['n_moa'] = dados_resultados.drop('id',axis=1).sum(axis=1)\n",
        "dados_resultados['ativo_moa'] = dados_resultados['n_moa'] != 0\n",
        "dados_resultados"
      ]
    },
    {
      "source": [
        "Contagem dos tipos de ações das drogas:"
      ],
      "cell_type": "markdown",
      "metadata": {}
    },
    {
      "cell_type": "code",
      "execution_count": 61,
      "metadata": {},
      "outputs": [
        {
          "output_type": "execute_result",
          "data": {
            "text/plain": [
              "nfkb_inhibitor                                832\n",
              "proteasome_inhibitor                          726\n",
              "cyclooxygenase_inhibitor                      435\n",
              "dopamine_receptor_antagonist                  424\n",
              "serotonin_receptor_antagonist                 404\n",
              "                                             ... \n",
              "protein_phosphatase_inhibitor                   6\n",
              "autotaxin_inhibitor                             6\n",
              "diuretic                                        6\n",
              "erbb2_inhibitor                                 1\n",
              "atp-sensitive_potassium_channel_antagonist      1\n",
              "Length: 206, dtype: int64"
            ]
          },
          "metadata": {},
          "execution_count": 61
        }
      ],
      "source": [
        "contagem_moa = dados_resultados.drop(['id', 'n_moa', 'ativo_moa'], axis=1).sum().sort_values(ascending=False)\n",
        "contagem_moa"
      ]
    },
    {
      "cell_type": "code",
      "execution_count": 62,
      "metadata": {},
      "outputs": [],
      "source": [
        "contagem_moa = contagem_moa.reset_index()\n",
        "contagem_moa.rename(columns={'index':'MOAs',0: 'Contagem'}, inplace=True)"
      ]
    },
    {
      "cell_type": "code",
      "execution_count": 63,
      "metadata": {},
      "outputs": [
        {
          "output_type": "execute_result",
          "data": {
            "text/plain": [
              "                                           MOAs  Contagem     sufixos\n",
              "0                                nfkb_inhibitor       832   inhibitor\n",
              "1                          proteasome_inhibitor       726   inhibitor\n",
              "2                      cyclooxygenase_inhibitor       435   inhibitor\n",
              "3                  dopamine_receptor_antagonist       424  antagonist\n",
              "4                 serotonin_receptor_antagonist       404  antagonist\n",
              "..                                          ...       ...         ...\n",
              "201               protein_phosphatase_inhibitor         6   inhibitor\n",
              "202                         autotaxin_inhibitor         6   inhibitor\n",
              "203                                    diuretic         6    diuretic\n",
              "204                             erbb2_inhibitor         1   inhibitor\n",
              "205  atp-sensitive_potassium_channel_antagonist         1  antagonist\n",
              "\n",
              "[206 rows x 3 columns]"
            ],
            "text/html": "<div>\n<style scoped>\n    .dataframe tbody tr th:only-of-type {\n        vertical-align: middle;\n    }\n\n    .dataframe tbody tr th {\n        vertical-align: top;\n    }\n\n    .dataframe thead th {\n        text-align: right;\n    }\n</style>\n<table border=\"1\" class=\"dataframe\">\n  <thead>\n    <tr style=\"text-align: right;\">\n      <th></th>\n      <th>MOAs</th>\n      <th>Contagem</th>\n      <th>sufixos</th>\n    </tr>\n  </thead>\n  <tbody>\n    <tr>\n      <th>0</th>\n      <td>nfkb_inhibitor</td>\n      <td>832</td>\n      <td>inhibitor</td>\n    </tr>\n    <tr>\n      <th>1</th>\n      <td>proteasome_inhibitor</td>\n      <td>726</td>\n      <td>inhibitor</td>\n    </tr>\n    <tr>\n      <th>2</th>\n      <td>cyclooxygenase_inhibitor</td>\n      <td>435</td>\n      <td>inhibitor</td>\n    </tr>\n    <tr>\n      <th>3</th>\n      <td>dopamine_receptor_antagonist</td>\n      <td>424</td>\n      <td>antagonist</td>\n    </tr>\n    <tr>\n      <th>4</th>\n      <td>serotonin_receptor_antagonist</td>\n      <td>404</td>\n      <td>antagonist</td>\n    </tr>\n    <tr>\n      <th>...</th>\n      <td>...</td>\n      <td>...</td>\n      <td>...</td>\n    </tr>\n    <tr>\n      <th>201</th>\n      <td>protein_phosphatase_inhibitor</td>\n      <td>6</td>\n      <td>inhibitor</td>\n    </tr>\n    <tr>\n      <th>202</th>\n      <td>autotaxin_inhibitor</td>\n      <td>6</td>\n      <td>inhibitor</td>\n    </tr>\n    <tr>\n      <th>203</th>\n      <td>diuretic</td>\n      <td>6</td>\n      <td>diuretic</td>\n    </tr>\n    <tr>\n      <th>204</th>\n      <td>erbb2_inhibitor</td>\n      <td>1</td>\n      <td>inhibitor</td>\n    </tr>\n    <tr>\n      <th>205</th>\n      <td>atp-sensitive_potassium_channel_antagonist</td>\n      <td>1</td>\n      <td>antagonist</td>\n    </tr>\n  </tbody>\n</table>\n<p>206 rows × 3 columns</p>\n</div>"
          },
          "metadata": {},
          "execution_count": 63
        }
      ],
      "source": [
        "contagem_moa['sufixos'] = contagem_moa['MOAs'].apply(lambda x: x.split('_')[-1])\n",
        "contagem_moa"
      ]
    },
    {
      "source": [
        "Inserindo novamente os id's para juntar os dados de resultados com o dataset."
      ],
      "cell_type": "markdown",
      "metadata": {}
    },
    {
      "cell_type": "code",
      "execution_count": 64,
      "metadata": {},
      "outputs": [
        {
          "output_type": "execute_result",
          "data": {
            "text/plain": [
              "                                           MOAs  Contagem     sufixos  \\\n",
              "0                                nfkb_inhibitor       832   inhibitor   \n",
              "1                          proteasome_inhibitor       726   inhibitor   \n",
              "2                      cyclooxygenase_inhibitor       435   inhibitor   \n",
              "3                  dopamine_receptor_antagonist       424  antagonist   \n",
              "4                 serotonin_receptor_antagonist       404  antagonist   \n",
              "..                                          ...       ...         ...   \n",
              "201               protein_phosphatase_inhibitor         6   inhibitor   \n",
              "202                         autotaxin_inhibitor         6   inhibitor   \n",
              "203                                    diuretic         6    diuretic   \n",
              "204                             erbb2_inhibitor         1   inhibitor   \n",
              "205  atp-sensitive_potassium_channel_antagonist         1  antagonist   \n",
              "\n",
              "               id  \n",
              "0    id_000644bb2  \n",
              "1    id_000779bfc  \n",
              "2    id_000a6266a  \n",
              "3    id_0015fd391  \n",
              "4    id_001626bd3  \n",
              "..            ...  \n",
              "201  id_022558d3e  \n",
              "202  id_0227c6599  \n",
              "203  id_02291b0ea  \n",
              "204  id_022a1f85a  \n",
              "205  id_022ab81bd  \n",
              "\n",
              "[206 rows x 4 columns]"
            ],
            "text/html": "<div>\n<style scoped>\n    .dataframe tbody tr th:only-of-type {\n        vertical-align: middle;\n    }\n\n    .dataframe tbody tr th {\n        vertical-align: top;\n    }\n\n    .dataframe thead th {\n        text-align: right;\n    }\n</style>\n<table border=\"1\" class=\"dataframe\">\n  <thead>\n    <tr style=\"text-align: right;\">\n      <th></th>\n      <th>MOAs</th>\n      <th>Contagem</th>\n      <th>sufixos</th>\n      <th>id</th>\n    </tr>\n  </thead>\n  <tbody>\n    <tr>\n      <th>0</th>\n      <td>nfkb_inhibitor</td>\n      <td>832</td>\n      <td>inhibitor</td>\n      <td>id_000644bb2</td>\n    </tr>\n    <tr>\n      <th>1</th>\n      <td>proteasome_inhibitor</td>\n      <td>726</td>\n      <td>inhibitor</td>\n      <td>id_000779bfc</td>\n    </tr>\n    <tr>\n      <th>2</th>\n      <td>cyclooxygenase_inhibitor</td>\n      <td>435</td>\n      <td>inhibitor</td>\n      <td>id_000a6266a</td>\n    </tr>\n    <tr>\n      <th>3</th>\n      <td>dopamine_receptor_antagonist</td>\n      <td>424</td>\n      <td>antagonist</td>\n      <td>id_0015fd391</td>\n    </tr>\n    <tr>\n      <th>4</th>\n      <td>serotonin_receptor_antagonist</td>\n      <td>404</td>\n      <td>antagonist</td>\n      <td>id_001626bd3</td>\n    </tr>\n    <tr>\n      <th>...</th>\n      <td>...</td>\n      <td>...</td>\n      <td>...</td>\n      <td>...</td>\n    </tr>\n    <tr>\n      <th>201</th>\n      <td>protein_phosphatase_inhibitor</td>\n      <td>6</td>\n      <td>inhibitor</td>\n      <td>id_022558d3e</td>\n    </tr>\n    <tr>\n      <th>202</th>\n      <td>autotaxin_inhibitor</td>\n      <td>6</td>\n      <td>inhibitor</td>\n      <td>id_0227c6599</td>\n    </tr>\n    <tr>\n      <th>203</th>\n      <td>diuretic</td>\n      <td>6</td>\n      <td>diuretic</td>\n      <td>id_02291b0ea</td>\n    </tr>\n    <tr>\n      <th>204</th>\n      <td>erbb2_inhibitor</td>\n      <td>1</td>\n      <td>inhibitor</td>\n      <td>id_022a1f85a</td>\n    </tr>\n    <tr>\n      <th>205</th>\n      <td>atp-sensitive_potassium_channel_antagonist</td>\n      <td>1</td>\n      <td>antagonist</td>\n      <td>id_022ab81bd</td>\n    </tr>\n  </tbody>\n</table>\n<p>206 rows × 4 columns</p>\n</div>"
          },
          "metadata": {},
          "execution_count": 64
        }
      ],
      "source": [
        "contagem_moa['id'] = dados_resultados['id']\n",
        "contagem_moa"
      ]
    },
    {
      "cell_type": "code",
      "execution_count": 90,
      "metadata": {},
      "outputs": [],
      "source": [
        "contagem_moa.set_index('id',inplace=True)\n",
        "dados_expandidos = pd.merge(dados,contagem_moa, on='id')\n"
      ]
    },
    {
      "cell_type": "code",
      "execution_count": 125,
      "metadata": {},
      "outputs": [
        {
          "output_type": "execute_result",
          "data": {
            "text/plain": [
              "             id tratamento  tempo dose      droga     g-0     g-1     g-2  \\\n",
              "0  id_000644bb2  com_droga     24   D1  b68db1d53  1.0620  0.5577 -0.2479   \n",
              "1  id_000779bfc  com_droga     72   D1  df89a8e5a  0.0743  0.4087  0.2991   \n",
              "2  id_000a6266a  com_droga     48   D1  18bb41b2c  0.6280  0.5817  1.5540   \n",
              "3  id_0015fd391  com_droga     48   D1  8c7f86626 -0.5138 -0.2491 -0.2656   \n",
              "4  id_001626bd3  com_droga     72   D2  7cbed3131 -0.3254 -0.4009  0.9700   \n",
              "\n",
              "      g-3     g-4  ...    c-93    c-94    c-95    c-96    c-97    c-98  \\\n",
              "0 -0.6208 -0.1944  ...  0.5523 -0.1912  0.6584 -0.3981  0.2139  0.3801   \n",
              "1  0.0604  1.0190  ...  0.0230  0.2957  0.4899  0.1522  0.1241  0.6077   \n",
              "2 -0.0764 -0.0323  ...  0.0223 -1.3240 -0.3174 -0.6417 -0.2187 -1.4080   \n",
              "3  0.5288  4.0620  ... -1.3780 -0.8632 -1.2880 -1.6210 -0.8784 -0.3876   \n",
              "4  0.6919  1.4180  ...  1.0690  0.5523 -0.3031  0.1094  0.2885 -0.3786   \n",
              "\n",
              "     c-99                           MOAs  Contagem     sufixos  \n",
              "0  0.4176                 nfkb_inhibitor       832   inhibitor  \n",
              "1  0.7371           proteasome_inhibitor       726   inhibitor  \n",
              "2  0.6931       cyclooxygenase_inhibitor       435   inhibitor  \n",
              "3 -0.8154   dopamine_receptor_antagonist       424  antagonist  \n",
              "4  0.7125  serotonin_receptor_antagonist       404  antagonist  \n",
              "\n",
              "[5 rows x 880 columns]"
            ],
            "text/html": "<div>\n<style scoped>\n    .dataframe tbody tr th:only-of-type {\n        vertical-align: middle;\n    }\n\n    .dataframe tbody tr th {\n        vertical-align: top;\n    }\n\n    .dataframe thead th {\n        text-align: right;\n    }\n</style>\n<table border=\"1\" class=\"dataframe\">\n  <thead>\n    <tr style=\"text-align: right;\">\n      <th></th>\n      <th>id</th>\n      <th>tratamento</th>\n      <th>tempo</th>\n      <th>dose</th>\n      <th>droga</th>\n      <th>g-0</th>\n      <th>g-1</th>\n      <th>g-2</th>\n      <th>g-3</th>\n      <th>g-4</th>\n      <th>...</th>\n      <th>c-93</th>\n      <th>c-94</th>\n      <th>c-95</th>\n      <th>c-96</th>\n      <th>c-97</th>\n      <th>c-98</th>\n      <th>c-99</th>\n      <th>MOAs</th>\n      <th>Contagem</th>\n      <th>sufixos</th>\n    </tr>\n  </thead>\n  <tbody>\n    <tr>\n      <th>0</th>\n      <td>id_000644bb2</td>\n      <td>com_droga</td>\n      <td>24</td>\n      <td>D1</td>\n      <td>b68db1d53</td>\n      <td>1.0620</td>\n      <td>0.5577</td>\n      <td>-0.2479</td>\n      <td>-0.6208</td>\n      <td>-0.1944</td>\n      <td>...</td>\n      <td>0.5523</td>\n      <td>-0.1912</td>\n      <td>0.6584</td>\n      <td>-0.3981</td>\n      <td>0.2139</td>\n      <td>0.3801</td>\n      <td>0.4176</td>\n      <td>nfkb_inhibitor</td>\n      <td>832</td>\n      <td>inhibitor</td>\n    </tr>\n    <tr>\n      <th>1</th>\n      <td>id_000779bfc</td>\n      <td>com_droga</td>\n      <td>72</td>\n      <td>D1</td>\n      <td>df89a8e5a</td>\n      <td>0.0743</td>\n      <td>0.4087</td>\n      <td>0.2991</td>\n      <td>0.0604</td>\n      <td>1.0190</td>\n      <td>...</td>\n      <td>0.0230</td>\n      <td>0.2957</td>\n      <td>0.4899</td>\n      <td>0.1522</td>\n      <td>0.1241</td>\n      <td>0.6077</td>\n      <td>0.7371</td>\n      <td>proteasome_inhibitor</td>\n      <td>726</td>\n      <td>inhibitor</td>\n    </tr>\n    <tr>\n      <th>2</th>\n      <td>id_000a6266a</td>\n      <td>com_droga</td>\n      <td>48</td>\n      <td>D1</td>\n      <td>18bb41b2c</td>\n      <td>0.6280</td>\n      <td>0.5817</td>\n      <td>1.5540</td>\n      <td>-0.0764</td>\n      <td>-0.0323</td>\n      <td>...</td>\n      <td>0.0223</td>\n      <td>-1.3240</td>\n      <td>-0.3174</td>\n      <td>-0.6417</td>\n      <td>-0.2187</td>\n      <td>-1.4080</td>\n      <td>0.6931</td>\n      <td>cyclooxygenase_inhibitor</td>\n      <td>435</td>\n      <td>inhibitor</td>\n    </tr>\n    <tr>\n      <th>3</th>\n      <td>id_0015fd391</td>\n      <td>com_droga</td>\n      <td>48</td>\n      <td>D1</td>\n      <td>8c7f86626</td>\n      <td>-0.5138</td>\n      <td>-0.2491</td>\n      <td>-0.2656</td>\n      <td>0.5288</td>\n      <td>4.0620</td>\n      <td>...</td>\n      <td>-1.3780</td>\n      <td>-0.8632</td>\n      <td>-1.2880</td>\n      <td>-1.6210</td>\n      <td>-0.8784</td>\n      <td>-0.3876</td>\n      <td>-0.8154</td>\n      <td>dopamine_receptor_antagonist</td>\n      <td>424</td>\n      <td>antagonist</td>\n    </tr>\n    <tr>\n      <th>4</th>\n      <td>id_001626bd3</td>\n      <td>com_droga</td>\n      <td>72</td>\n      <td>D2</td>\n      <td>7cbed3131</td>\n      <td>-0.3254</td>\n      <td>-0.4009</td>\n      <td>0.9700</td>\n      <td>0.6919</td>\n      <td>1.4180</td>\n      <td>...</td>\n      <td>1.0690</td>\n      <td>0.5523</td>\n      <td>-0.3031</td>\n      <td>0.1094</td>\n      <td>0.2885</td>\n      <td>-0.3786</td>\n      <td>0.7125</td>\n      <td>serotonin_receptor_antagonist</td>\n      <td>404</td>\n      <td>antagonist</td>\n    </tr>\n  </tbody>\n</table>\n<p>5 rows × 880 columns</p>\n</div>"
          },
          "metadata": {},
          "execution_count": 125
        }
      ],
      "source": [
        "dados_expandidos.head()"
      ]
    },
    {
      "source": [
        "Os campos de \"MOA's\" e \"Contagem\" serviram de guia, para continuidade não serão mais úteis.\n",
        "O foco é na coluna \"sufixo\", onde estão os tipos de \"MOA\" e, entre eles, o mecanismo alvo ('agonist')."
      ],
      "cell_type": "markdown",
      "metadata": {}
    },
    {
      "cell_type": "code",
      "execution_count": 127,
      "metadata": {},
      "outputs": [
        {
          "output_type": "execute_result",
          "data": {
            "text/plain": [
              "               id tratamento  tempo dose      droga     g-0     g-1     g-2  \\\n",
              "0    id_000644bb2  com_droga     24   D1  b68db1d53  1.0620  0.5577 -0.2479   \n",
              "1    id_000779bfc  com_droga     72   D1  df89a8e5a  0.0743  0.4087  0.2991   \n",
              "2    id_000a6266a  com_droga     48   D1  18bb41b2c  0.6280  0.5817  1.5540   \n",
              "3    id_0015fd391  com_droga     48   D1  8c7f86626 -0.5138 -0.2491 -0.2656   \n",
              "4    id_001626bd3  com_droga     72   D2  7cbed3131 -0.3254 -0.4009  0.9700   \n",
              "..            ...        ...    ...  ...        ...     ...     ...     ...   \n",
              "201  id_022558d3e  com_droga     24   D1  244ef8123 -0.1167 -0.0873  0.3010   \n",
              "202  id_0227c6599  com_droga     48   D1  6ff369788  0.8750  0.5430 -0.4560   \n",
              "203  id_02291b0ea  com_droga     72   D2  a6c49d7e9  0.5769  0.9085 -2.2060   \n",
              "204  id_022a1f85a  com_droga     24   D2  2159f4e19 -0.6205 -0.6656 -0.1998   \n",
              "205  id_022ab81bd  com_droga     24   D1  d1b47f29d -0.4996 -1.4870 -0.9169   \n",
              "\n",
              "        g-3     g-4  ...    c-91    c-92    c-93    c-94    c-95    c-96  \\\n",
              "0   -0.6208 -0.1944  ...  0.2584  0.8076  0.5523 -0.1912  0.6584 -0.3981   \n",
              "1    0.0604  1.0190  ...  0.7543  0.4708  0.0230  0.2957  0.4899  0.1522   \n",
              "2   -0.0764 -0.0323  ... -0.6297  0.6103  0.0223 -1.3240 -0.3174 -0.6417   \n",
              "3    0.5288  4.0620  ... -0.6441 -5.6300 -1.3780 -0.8632 -1.2880 -1.6210   \n",
              "4    0.6919  1.4180  ...  0.0048  0.6670  1.0690  0.5523 -0.3031  0.1094   \n",
              "..      ...     ...  ...     ...     ...     ...     ...     ...     ...   \n",
              "201 -1.0120 -0.0442  ... -0.4543 -0.4815  0.7162 -1.2940 -0.5594 -0.1227   \n",
              "202  0.3521  0.3816  ... -0.3833 -0.0756 -0.1453 -1.3820  0.0575 -0.6443   \n",
              "203 -0.1078  1.6250  ...  0.2234  0.8954 -0.6332  0.4232  0.4644 -0.1194   \n",
              "204  0.5189 -0.7786  ...  0.7379  0.0907 -0.0290  0.2492 -0.9132 -0.1704   \n",
              "205  1.9110  0.0638  ...  0.4063  0.0912  1.4610  1.2770 -0.0832  0.2570   \n",
              "\n",
              "       c-97    c-98    c-99  sufixos  \n",
              "0    0.2139  0.3801  0.4176        0  \n",
              "1    0.1241  0.6077  0.7371        0  \n",
              "2   -0.2187 -1.4080  0.6931        0  \n",
              "3   -0.8784 -0.3876 -0.8154        0  \n",
              "4    0.2885 -0.3786  0.7125        0  \n",
              "..      ...     ...     ...      ...  \n",
              "201  0.2771 -1.1240  0.1109        0  \n",
              "202 -0.8026  0.3803  0.0228        0  \n",
              "203  0.1237  0.1624 -0.8697        0  \n",
              "204  0.5180 -0.2251 -0.3892        0  \n",
              "205 -0.4281 -2.5450 -0.1668        0  \n",
              "\n",
              "[206 rows x 878 columns]"
            ],
            "text/html": "<div>\n<style scoped>\n    .dataframe tbody tr th:only-of-type {\n        vertical-align: middle;\n    }\n\n    .dataframe tbody tr th {\n        vertical-align: top;\n    }\n\n    .dataframe thead th {\n        text-align: right;\n    }\n</style>\n<table border=\"1\" class=\"dataframe\">\n  <thead>\n    <tr style=\"text-align: right;\">\n      <th></th>\n      <th>id</th>\n      <th>tratamento</th>\n      <th>tempo</th>\n      <th>dose</th>\n      <th>droga</th>\n      <th>g-0</th>\n      <th>g-1</th>\n      <th>g-2</th>\n      <th>g-3</th>\n      <th>g-4</th>\n      <th>...</th>\n      <th>c-91</th>\n      <th>c-92</th>\n      <th>c-93</th>\n      <th>c-94</th>\n      <th>c-95</th>\n      <th>c-96</th>\n      <th>c-97</th>\n      <th>c-98</th>\n      <th>c-99</th>\n      <th>sufixos</th>\n    </tr>\n  </thead>\n  <tbody>\n    <tr>\n      <th>0</th>\n      <td>id_000644bb2</td>\n      <td>com_droga</td>\n      <td>24</td>\n      <td>D1</td>\n      <td>b68db1d53</td>\n      <td>1.0620</td>\n      <td>0.5577</td>\n      <td>-0.2479</td>\n      <td>-0.6208</td>\n      <td>-0.1944</td>\n      <td>...</td>\n      <td>0.2584</td>\n      <td>0.8076</td>\n      <td>0.5523</td>\n      <td>-0.1912</td>\n      <td>0.6584</td>\n      <td>-0.3981</td>\n      <td>0.2139</td>\n      <td>0.3801</td>\n      <td>0.4176</td>\n      <td>0</td>\n    </tr>\n    <tr>\n      <th>1</th>\n      <td>id_000779bfc</td>\n      <td>com_droga</td>\n      <td>72</td>\n      <td>D1</td>\n      <td>df89a8e5a</td>\n      <td>0.0743</td>\n      <td>0.4087</td>\n      <td>0.2991</td>\n      <td>0.0604</td>\n      <td>1.0190</td>\n      <td>...</td>\n      <td>0.7543</td>\n      <td>0.4708</td>\n      <td>0.0230</td>\n      <td>0.2957</td>\n      <td>0.4899</td>\n      <td>0.1522</td>\n      <td>0.1241</td>\n      <td>0.6077</td>\n      <td>0.7371</td>\n      <td>0</td>\n    </tr>\n    <tr>\n      <th>2</th>\n      <td>id_000a6266a</td>\n      <td>com_droga</td>\n      <td>48</td>\n      <td>D1</td>\n      <td>18bb41b2c</td>\n      <td>0.6280</td>\n      <td>0.5817</td>\n      <td>1.5540</td>\n      <td>-0.0764</td>\n      <td>-0.0323</td>\n      <td>...</td>\n      <td>-0.6297</td>\n      <td>0.6103</td>\n      <td>0.0223</td>\n      <td>-1.3240</td>\n      <td>-0.3174</td>\n      <td>-0.6417</td>\n      <td>-0.2187</td>\n      <td>-1.4080</td>\n      <td>0.6931</td>\n      <td>0</td>\n    </tr>\n    <tr>\n      <th>3</th>\n      <td>id_0015fd391</td>\n      <td>com_droga</td>\n      <td>48</td>\n      <td>D1</td>\n      <td>8c7f86626</td>\n      <td>-0.5138</td>\n      <td>-0.2491</td>\n      <td>-0.2656</td>\n      <td>0.5288</td>\n      <td>4.0620</td>\n      <td>...</td>\n      <td>-0.6441</td>\n      <td>-5.6300</td>\n      <td>-1.3780</td>\n      <td>-0.8632</td>\n      <td>-1.2880</td>\n      <td>-1.6210</td>\n      <td>-0.8784</td>\n      <td>-0.3876</td>\n      <td>-0.8154</td>\n      <td>0</td>\n    </tr>\n    <tr>\n      <th>4</th>\n      <td>id_001626bd3</td>\n      <td>com_droga</td>\n      <td>72</td>\n      <td>D2</td>\n      <td>7cbed3131</td>\n      <td>-0.3254</td>\n      <td>-0.4009</td>\n      <td>0.9700</td>\n      <td>0.6919</td>\n      <td>1.4180</td>\n      <td>...</td>\n      <td>0.0048</td>\n      <td>0.6670</td>\n      <td>1.0690</td>\n      <td>0.5523</td>\n      <td>-0.3031</td>\n      <td>0.1094</td>\n      <td>0.2885</td>\n      <td>-0.3786</td>\n      <td>0.7125</td>\n      <td>0</td>\n    </tr>\n    <tr>\n      <th>...</th>\n      <td>...</td>\n      <td>...</td>\n      <td>...</td>\n      <td>...</td>\n      <td>...</td>\n      <td>...</td>\n      <td>...</td>\n      <td>...</td>\n      <td>...</td>\n      <td>...</td>\n      <td>...</td>\n      <td>...</td>\n      <td>...</td>\n      <td>...</td>\n      <td>...</td>\n      <td>...</td>\n      <td>...</td>\n      <td>...</td>\n      <td>...</td>\n      <td>...</td>\n      <td>...</td>\n    </tr>\n    <tr>\n      <th>201</th>\n      <td>id_022558d3e</td>\n      <td>com_droga</td>\n      <td>24</td>\n      <td>D1</td>\n      <td>244ef8123</td>\n      <td>-0.1167</td>\n      <td>-0.0873</td>\n      <td>0.3010</td>\n      <td>-1.0120</td>\n      <td>-0.0442</td>\n      <td>...</td>\n      <td>-0.4543</td>\n      <td>-0.4815</td>\n      <td>0.7162</td>\n      <td>-1.2940</td>\n      <td>-0.5594</td>\n      <td>-0.1227</td>\n      <td>0.2771</td>\n      <td>-1.1240</td>\n      <td>0.1109</td>\n      <td>0</td>\n    </tr>\n    <tr>\n      <th>202</th>\n      <td>id_0227c6599</td>\n      <td>com_droga</td>\n      <td>48</td>\n      <td>D1</td>\n      <td>6ff369788</td>\n      <td>0.8750</td>\n      <td>0.5430</td>\n      <td>-0.4560</td>\n      <td>0.3521</td>\n      <td>0.3816</td>\n      <td>...</td>\n      <td>-0.3833</td>\n      <td>-0.0756</td>\n      <td>-0.1453</td>\n      <td>-1.3820</td>\n      <td>0.0575</td>\n      <td>-0.6443</td>\n      <td>-0.8026</td>\n      <td>0.3803</td>\n      <td>0.0228</td>\n      <td>0</td>\n    </tr>\n    <tr>\n      <th>203</th>\n      <td>id_02291b0ea</td>\n      <td>com_droga</td>\n      <td>72</td>\n      <td>D2</td>\n      <td>a6c49d7e9</td>\n      <td>0.5769</td>\n      <td>0.9085</td>\n      <td>-2.2060</td>\n      <td>-0.1078</td>\n      <td>1.6250</td>\n      <td>...</td>\n      <td>0.2234</td>\n      <td>0.8954</td>\n      <td>-0.6332</td>\n      <td>0.4232</td>\n      <td>0.4644</td>\n      <td>-0.1194</td>\n      <td>0.1237</td>\n      <td>0.1624</td>\n      <td>-0.8697</td>\n      <td>0</td>\n    </tr>\n    <tr>\n      <th>204</th>\n      <td>id_022a1f85a</td>\n      <td>com_droga</td>\n      <td>24</td>\n      <td>D2</td>\n      <td>2159f4e19</td>\n      <td>-0.6205</td>\n      <td>-0.6656</td>\n      <td>-0.1998</td>\n      <td>0.5189</td>\n      <td>-0.7786</td>\n      <td>...</td>\n      <td>0.7379</td>\n      <td>0.0907</td>\n      <td>-0.0290</td>\n      <td>0.2492</td>\n      <td>-0.9132</td>\n      <td>-0.1704</td>\n      <td>0.5180</td>\n      <td>-0.2251</td>\n      <td>-0.3892</td>\n      <td>0</td>\n    </tr>\n    <tr>\n      <th>205</th>\n      <td>id_022ab81bd</td>\n      <td>com_droga</td>\n      <td>24</td>\n      <td>D1</td>\n      <td>d1b47f29d</td>\n      <td>-0.4996</td>\n      <td>-1.4870</td>\n      <td>-0.9169</td>\n      <td>1.9110</td>\n      <td>0.0638</td>\n      <td>...</td>\n      <td>0.4063</td>\n      <td>0.0912</td>\n      <td>1.4610</td>\n      <td>1.2770</td>\n      <td>-0.0832</td>\n      <td>0.2570</td>\n      <td>-0.4281</td>\n      <td>-2.5450</td>\n      <td>-0.1668</td>\n      <td>0</td>\n    </tr>\n  </tbody>\n</table>\n<p>206 rows × 878 columns</p>\n</div>"
          },
          "metadata": {},
          "execution_count": 127
        }
      ],
      "source": [
        "dados_traduzidos = dados_expandidos.drop(['MOAs','Contagem'], axis=1)\n",
        "dados_traduzidos.loc[(dados_traduzidos.sufixos != 'agonist'),'sufixos'] = 0\n",
        "dados_traduzidos.loc[(dados_traduzidos.sufixos == 'agonist'),'sufixos'] = 1\n",
        "dados_traduzidos"
      ]
    },
    {
      "cell_type": "code",
      "execution_count": 133,
      "metadata": {},
      "outputs": [
        {
          "output_type": "execute_result",
          "data": {
            "text/plain": [
              "              id    tratamento  tempo dose      droga     g-0     g-1     g-2  \\\n",
              "17  id_0031dd989     com_droga     24   D2  96b9ac123 -0.4764 -0.5513  1.8560   \n",
              "19  id_0036b0342     com_droga     48   D1  d14919a0e -0.1428 -0.1957 -0.6397   \n",
              "22  id_003d4b6f0     com_droga     72   D1  b67df960c  0.6111 -0.2907 -0.7853   \n",
              "25  id_0054388ec  com_controle     48   D1  cacb2b860 -0.6696 -0.2718 -1.2230   \n",
              "28  id_005c3cb48     com_droga     48   D1  1e83e8b52  0.1088 -0.0945 -0.0345   \n",
              "\n",
              "       g-3     g-4  ...    c-91    c-92    c-93    c-94    c-95    c-96  \\\n",
              "17 -0.2618 -0.3310  ...  1.0620  0.3601  0.4402  0.2655  0.5741  0.8093   \n",
              "19  0.0726 -0.8058  ... -0.1995  0.3496  0.3608  0.7261 -0.0030  0.2853   \n",
              "22  0.1947 -0.9804  ...  0.5732  0.0289  0.1109  0.1208  0.5104  0.7287   \n",
              "25 -0.6226 -0.7220  ...  0.6405  0.5429  0.3562  1.3290  0.5573  0.8837   \n",
              "28 -0.0853 -0.6953  ... -0.2518  0.2619 -0.1159  0.0052  0.5781 -0.2392   \n",
              "\n",
              "      c-97    c-98    c-99  sufixos  \n",
              "17 -0.0269  0.4259  0.9279        1  \n",
              "19  0.3129  0.4251  0.4308        1  \n",
              "22 -0.0168 -0.3555 -0.0509        1  \n",
              "25  0.5534  0.8976  1.0050        1  \n",
              "28  0.9806  0.2554  0.3550        1  \n",
              "\n",
              "[5 rows x 878 columns]"
            ],
            "text/html": "<div>\n<style scoped>\n    .dataframe tbody tr th:only-of-type {\n        vertical-align: middle;\n    }\n\n    .dataframe tbody tr th {\n        vertical-align: top;\n    }\n\n    .dataframe thead th {\n        text-align: right;\n    }\n</style>\n<table border=\"1\" class=\"dataframe\">\n  <thead>\n    <tr style=\"text-align: right;\">\n      <th></th>\n      <th>id</th>\n      <th>tratamento</th>\n      <th>tempo</th>\n      <th>dose</th>\n      <th>droga</th>\n      <th>g-0</th>\n      <th>g-1</th>\n      <th>g-2</th>\n      <th>g-3</th>\n      <th>g-4</th>\n      <th>...</th>\n      <th>c-91</th>\n      <th>c-92</th>\n      <th>c-93</th>\n      <th>c-94</th>\n      <th>c-95</th>\n      <th>c-96</th>\n      <th>c-97</th>\n      <th>c-98</th>\n      <th>c-99</th>\n      <th>sufixos</th>\n    </tr>\n  </thead>\n  <tbody>\n    <tr>\n      <th>17</th>\n      <td>id_0031dd989</td>\n      <td>com_droga</td>\n      <td>24</td>\n      <td>D2</td>\n      <td>96b9ac123</td>\n      <td>-0.4764</td>\n      <td>-0.5513</td>\n      <td>1.8560</td>\n      <td>-0.2618</td>\n      <td>-0.3310</td>\n      <td>...</td>\n      <td>1.0620</td>\n      <td>0.3601</td>\n      <td>0.4402</td>\n      <td>0.2655</td>\n      <td>0.5741</td>\n      <td>0.8093</td>\n      <td>-0.0269</td>\n      <td>0.4259</td>\n      <td>0.9279</td>\n      <td>1</td>\n    </tr>\n    <tr>\n      <th>19</th>\n      <td>id_0036b0342</td>\n      <td>com_droga</td>\n      <td>48</td>\n      <td>D1</td>\n      <td>d14919a0e</td>\n      <td>-0.1428</td>\n      <td>-0.1957</td>\n      <td>-0.6397</td>\n      <td>0.0726</td>\n      <td>-0.8058</td>\n      <td>...</td>\n      <td>-0.1995</td>\n      <td>0.3496</td>\n      <td>0.3608</td>\n      <td>0.7261</td>\n      <td>-0.0030</td>\n      <td>0.2853</td>\n      <td>0.3129</td>\n      <td>0.4251</td>\n      <td>0.4308</td>\n      <td>1</td>\n    </tr>\n    <tr>\n      <th>22</th>\n      <td>id_003d4b6f0</td>\n      <td>com_droga</td>\n      <td>72</td>\n      <td>D1</td>\n      <td>b67df960c</td>\n      <td>0.6111</td>\n      <td>-0.2907</td>\n      <td>-0.7853</td>\n      <td>0.1947</td>\n      <td>-0.9804</td>\n      <td>...</td>\n      <td>0.5732</td>\n      <td>0.0289</td>\n      <td>0.1109</td>\n      <td>0.1208</td>\n      <td>0.5104</td>\n      <td>0.7287</td>\n      <td>-0.0168</td>\n      <td>-0.3555</td>\n      <td>-0.0509</td>\n      <td>1</td>\n    </tr>\n    <tr>\n      <th>25</th>\n      <td>id_0054388ec</td>\n      <td>com_controle</td>\n      <td>48</td>\n      <td>D1</td>\n      <td>cacb2b860</td>\n      <td>-0.6696</td>\n      <td>-0.2718</td>\n      <td>-1.2230</td>\n      <td>-0.6226</td>\n      <td>-0.7220</td>\n      <td>...</td>\n      <td>0.6405</td>\n      <td>0.5429</td>\n      <td>0.3562</td>\n      <td>1.3290</td>\n      <td>0.5573</td>\n      <td>0.8837</td>\n      <td>0.5534</td>\n      <td>0.8976</td>\n      <td>1.0050</td>\n      <td>1</td>\n    </tr>\n    <tr>\n      <th>28</th>\n      <td>id_005c3cb48</td>\n      <td>com_droga</td>\n      <td>48</td>\n      <td>D1</td>\n      <td>1e83e8b52</td>\n      <td>0.1088</td>\n      <td>-0.0945</td>\n      <td>-0.0345</td>\n      <td>-0.0853</td>\n      <td>-0.6953</td>\n      <td>...</td>\n      <td>-0.2518</td>\n      <td>0.2619</td>\n      <td>-0.1159</td>\n      <td>0.0052</td>\n      <td>0.5781</td>\n      <td>-0.2392</td>\n      <td>0.9806</td>\n      <td>0.2554</td>\n      <td>0.3550</td>\n      <td>1</td>\n    </tr>\n  </tbody>\n</table>\n<p>5 rows × 878 columns</p>\n</div>"
          },
          "metadata": {},
          "execution_count": 133
        }
      ],
      "source": [
        "dados_traduzidos.sort_values(['sufixos'])\r\n",
        "dados_traduzidos[dados_traduzidos.sufixos == 1].head()"
      ]
    },
    {
      "cell_type": "code",
      "execution_count": 140,
      "metadata": {},
      "outputs": [
        {
          "output_type": "execute_result",
          "data": {
            "text/plain": [
              "             id tratamento dose      droga     g-0     g-1     g-2     g-3  \\\n",
              "0  id_000644bb2  com_droga   D1  b68db1d53  1.0620  0.5577 -0.2479 -0.6208   \n",
              "1  id_000779bfc  com_droga   D1  df89a8e5a  0.0743  0.4087  0.2991  0.0604   \n",
              "2  id_000a6266a  com_droga   D1  18bb41b2c  0.6280  0.5817  1.5540 -0.0764   \n",
              "3  id_0015fd391  com_droga   D1  8c7f86626 -0.5138 -0.2491 -0.2656  0.5288   \n",
              "4  id_001626bd3  com_droga   D2  7cbed3131 -0.3254 -0.4009  0.9700  0.6919   \n",
              "\n",
              "      g-4     g-5  ...    c-94    c-95    c-96    c-97    c-98    c-99  \\\n",
              "0 -0.1944 -1.0120  ... -0.1912  0.6584 -0.3981  0.2139  0.3801  0.4176   \n",
              "1  1.0190  0.5207  ...  0.2957  0.4899  0.1522  0.1241  0.6077  0.7371   \n",
              "2 -0.0323  1.2390  ... -1.3240 -0.3174 -0.6417 -0.2187 -1.4080  0.6931   \n",
              "3  4.0620 -0.8095  ... -0.8632 -1.2880 -1.6210 -0.8784 -0.3876 -0.8154   \n",
              "4  1.4180 -0.8244  ...  0.5523 -0.3031  0.1094  0.2885 -0.3786  0.7125   \n",
              "\n",
              "   sufixos  24  48  72  \n",
              "0        0   1   0   0  \n",
              "1        0   0   0   1  \n",
              "2        0   0   1   0  \n",
              "3        0   0   1   0  \n",
              "4        0   0   0   1  \n",
              "\n",
              "[5 rows x 880 columns]"
            ],
            "text/html": "<div>\n<style scoped>\n    .dataframe tbody tr th:only-of-type {\n        vertical-align: middle;\n    }\n\n    .dataframe tbody tr th {\n        vertical-align: top;\n    }\n\n    .dataframe thead th {\n        text-align: right;\n    }\n</style>\n<table border=\"1\" class=\"dataframe\">\n  <thead>\n    <tr style=\"text-align: right;\">\n      <th></th>\n      <th>id</th>\n      <th>tratamento</th>\n      <th>dose</th>\n      <th>droga</th>\n      <th>g-0</th>\n      <th>g-1</th>\n      <th>g-2</th>\n      <th>g-3</th>\n      <th>g-4</th>\n      <th>g-5</th>\n      <th>...</th>\n      <th>c-94</th>\n      <th>c-95</th>\n      <th>c-96</th>\n      <th>c-97</th>\n      <th>c-98</th>\n      <th>c-99</th>\n      <th>sufixos</th>\n      <th>24</th>\n      <th>48</th>\n      <th>72</th>\n    </tr>\n  </thead>\n  <tbody>\n    <tr>\n      <th>0</th>\n      <td>id_000644bb2</td>\n      <td>com_droga</td>\n      <td>D1</td>\n      <td>b68db1d53</td>\n      <td>1.0620</td>\n      <td>0.5577</td>\n      <td>-0.2479</td>\n      <td>-0.6208</td>\n      <td>-0.1944</td>\n      <td>-1.0120</td>\n      <td>...</td>\n      <td>-0.1912</td>\n      <td>0.6584</td>\n      <td>-0.3981</td>\n      <td>0.2139</td>\n      <td>0.3801</td>\n      <td>0.4176</td>\n      <td>0</td>\n      <td>1</td>\n      <td>0</td>\n      <td>0</td>\n    </tr>\n    <tr>\n      <th>1</th>\n      <td>id_000779bfc</td>\n      <td>com_droga</td>\n      <td>D1</td>\n      <td>df89a8e5a</td>\n      <td>0.0743</td>\n      <td>0.4087</td>\n      <td>0.2991</td>\n      <td>0.0604</td>\n      <td>1.0190</td>\n      <td>0.5207</td>\n      <td>...</td>\n      <td>0.2957</td>\n      <td>0.4899</td>\n      <td>0.1522</td>\n      <td>0.1241</td>\n      <td>0.6077</td>\n      <td>0.7371</td>\n      <td>0</td>\n      <td>0</td>\n      <td>0</td>\n      <td>1</td>\n    </tr>\n    <tr>\n      <th>2</th>\n      <td>id_000a6266a</td>\n      <td>com_droga</td>\n      <td>D1</td>\n      <td>18bb41b2c</td>\n      <td>0.6280</td>\n      <td>0.5817</td>\n      <td>1.5540</td>\n      <td>-0.0764</td>\n      <td>-0.0323</td>\n      <td>1.2390</td>\n      <td>...</td>\n      <td>-1.3240</td>\n      <td>-0.3174</td>\n      <td>-0.6417</td>\n      <td>-0.2187</td>\n      <td>-1.4080</td>\n      <td>0.6931</td>\n      <td>0</td>\n      <td>0</td>\n      <td>1</td>\n      <td>0</td>\n    </tr>\n    <tr>\n      <th>3</th>\n      <td>id_0015fd391</td>\n      <td>com_droga</td>\n      <td>D1</td>\n      <td>8c7f86626</td>\n      <td>-0.5138</td>\n      <td>-0.2491</td>\n      <td>-0.2656</td>\n      <td>0.5288</td>\n      <td>4.0620</td>\n      <td>-0.8095</td>\n      <td>...</td>\n      <td>-0.8632</td>\n      <td>-1.2880</td>\n      <td>-1.6210</td>\n      <td>-0.8784</td>\n      <td>-0.3876</td>\n      <td>-0.8154</td>\n      <td>0</td>\n      <td>0</td>\n      <td>1</td>\n      <td>0</td>\n    </tr>\n    <tr>\n      <th>4</th>\n      <td>id_001626bd3</td>\n      <td>com_droga</td>\n      <td>D2</td>\n      <td>7cbed3131</td>\n      <td>-0.3254</td>\n      <td>-0.4009</td>\n      <td>0.9700</td>\n      <td>0.6919</td>\n      <td>1.4180</td>\n      <td>-0.8244</td>\n      <td>...</td>\n      <td>0.5523</td>\n      <td>-0.3031</td>\n      <td>0.1094</td>\n      <td>0.2885</td>\n      <td>-0.3786</td>\n      <td>0.7125</td>\n      <td>0</td>\n      <td>0</td>\n      <td>0</td>\n      <td>1</td>\n    </tr>\n  </tbody>\n</table>\n<p>5 rows × 880 columns</p>\n</div>"
          },
          "metadata": {},
          "execution_count": 140
        }
      ],
      "source": [
        "dados_traduzidos['24'] = (dados['tempo'] == 24).astype(int)\n",
        "dados_traduzidos['48'] = (dados['tempo'] == 48).astype(int)\n",
        "dados_traduzidos['72'] = (dados['tempo'] == 72).astype(int)\n",
        "dados_traduzidos = dados_traduzidos.drop(['tempo'], axis=1)\n",
        "dados_traduzidos.head()"
      ]
    },
    {
      "cell_type": "code",
      "execution_count": 153,
      "metadata": {},
      "outputs": [],
      "source": [
        "# Selecionanco a expressão genica e a viabilidade celular para treinar o modelo: x\n",
        "x = dados_traduzidos.select_dtypes('float64')\n",
        "# Selecionar a saida esperada: y\n",
        "y = dados_traduzidos.sufixos.astype(int)\n",
        "\n",
        "# Random state é como uma \"seed\" que gera um resultado fixo. Assim posso reproduzir resultados, como no da aula.\n",
        "# Stratify servirá para garantir a proporção das colunas \"verdadeiro\" e \"falso\" (neste caso na variável y). Na documentação não explica muito bem.\n",
        "x_treino, x_teste, y_treino, y_teste = train_test_split(x,y, test_size=0.2, stratify=y, random_state=2359)\n"
      ]
    },
    {
      "cell_type": "code",
      "execution_count": 154,
      "metadata": {},
      "outputs": [],
      "source": [
        "# Criar modelo para treinar com X e comparar com Y\n",
        "modelo_rlogistica = LogisticRegression(max_iter=1000)"
      ]
    },
    {
      "cell_type": "code",
      "execution_count": 155,
      "metadata": {},
      "outputs": [
        {
          "output_type": "execute_result",
          "data": {
            "text/plain": [
              "LogisticRegression(max_iter=1000)"
            ]
          },
          "metadata": {},
          "execution_count": 155
        }
      ],
      "source": [
        "modelo_rlogistica.fit(x_treino,y_treino)"
      ]
    },
    {
      "cell_type": "code",
      "execution_count": 156,
      "metadata": {},
      "outputs": [
        {
          "output_type": "execute_result",
          "data": {
            "text/plain": [
              "0.8571428571428571"
            ]
          },
          "metadata": {},
          "execution_count": 156
        }
      ],
      "source": [
        "modelo_rlogistica.score(x_teste,y_teste)"
      ]
    },
    {
      "source": [
        "O resultado com regressão logística não foi tão satisfatório."
      ],
      "cell_type": "markdown",
      "metadata": {}
    },
    {
      "cell_type": "code",
      "execution_count": 158,
      "metadata": {},
      "outputs": [
        {
          "output_type": "execute_result",
          "data": {
            "text/plain": [
              "0.8571428571428571"
            ]
          },
          "metadata": {},
          "execution_count": 158
        }
      ],
      "source": [
        "modelo_dummy = DummyClassifier('most_frequent')\n",
        "modelo_dummy.fit(x_treino,y_treino)\n",
        "previsao_dummy = modelo_dummy.predict(x_teste)\n",
        "accuracy_score(y_teste, previsao_dummy)"
      ]
    },
    {
      "cell_type": "code",
      "execution_count": 165,
      "metadata": {},
      "outputs": [
        {
          "output_type": "execute_result",
          "data": {
            "text/plain": [
              "0.8095238095238095"
            ]
          },
          "metadata": {},
          "execution_count": 165
        }
      ],
      "source": [
        "modelo_arvore = DecisionTreeClassifier(max_depth = 30)\n",
        "modelo_arvore.fit(x_treino,y_treino)\n",
        "modelo_arvore.score(x_teste,y_teste)"
      ]
    },
    {
      "cell_type": "code",
      "execution_count": 173,
      "metadata": {},
      "outputs": [],
      "source": [
        "teste=[]\n",
        "treino=[]\n",
        "for i in range(1,15):\n",
        "  modelo_arvore = DecisionTreeClassifier(max_depth = i)\n",
        "  modelo_arvore.fit(x_treino,y_treino)\n",
        "  teste.append(modelo_arvore.score(x_teste,y_teste))\n",
        "  treino.append(modelo_arvore.score(x_treino,y_treino))"
      ]
    },
    {
      "cell_type": "code",
      "execution_count": 212,
      "metadata": {},
      "outputs": [
        {
          "output_type": "display_data",
          "data": {
            "text/plain": "<Figure size 432x288 with 1 Axes>",
            "image/svg+xml": "<?xml version=\"1.0\" encoding=\"utf-8\" standalone=\"no\"?>\r\n<!DOCTYPE svg PUBLIC \"-//W3C//DTD SVG 1.1//EN\"\r\n  \"http://www.w3.org/Graphics/SVG/1.1/DTD/svg11.dtd\">\r\n<!-- Created with matplotlib (https://matplotlib.org/) -->\r\n<svg height=\"248.518125pt\" version=\"1.1\" viewBox=\"0 0 378.465625 248.518125\" width=\"378.465625pt\" xmlns=\"http://www.w3.org/2000/svg\" xmlns:xlink=\"http://www.w3.org/1999/xlink\">\r\n <metadata>\r\n  <rdf:RDF xmlns:cc=\"http://creativecommons.org/ns#\" xmlns:dc=\"http://purl.org/dc/elements/1.1/\" xmlns:rdf=\"http://www.w3.org/1999/02/22-rdf-syntax-ns#\">\r\n   <cc:Work>\r\n    <dc:type rdf:resource=\"http://purl.org/dc/dcmitype/StillImage\"/>\r\n    <dc:date>2021-05-09T23:30:52.014675</dc:date>\r\n    <dc:format>image/svg+xml</dc:format>\r\n    <dc:creator>\r\n     <cc:Agent>\r\n      <dc:title>Matplotlib v3.3.2, https://matplotlib.org/</dc:title>\r\n     </cc:Agent>\r\n    </dc:creator>\r\n   </cc:Work>\r\n  </rdf:RDF>\r\n </metadata>\r\n <defs>\r\n  <style type=\"text/css\">*{stroke-linecap:butt;stroke-linejoin:round;}</style>\r\n </defs>\r\n <g id=\"figure_1\">\r\n  <g id=\"patch_1\">\r\n   <path d=\"M 0 248.518125 \r\nL 378.465625 248.518125 \r\nL 378.465625 0 \r\nL 0 0 \r\nz\r\n\" style=\"fill:none;\"/>\r\n  </g>\r\n  <g id=\"axes_1\">\r\n   <g id=\"patch_2\">\r\n    <path d=\"M 36.465625 224.64 \r\nL 371.265625 224.64 \r\nL 371.265625 7.2 \r\nL 36.465625 7.2 \r\nz\r\n\" style=\"fill:#ffffff;\"/>\r\n   </g>\r\n   <g id=\"matplotlib.axis_1\">\r\n    <g id=\"xtick_1\">\r\n     <g id=\"line2d_1\">\r\n      <defs>\r\n       <path d=\"M 0 0 \r\nL 0 3.5 \r\n\" id=\"m133993e851\" style=\"stroke:#000000;stroke-width:0.8;\"/>\r\n      </defs>\r\n      <g>\r\n       <use style=\"stroke:#000000;stroke-width:0.8;\" x=\"75.096394\" xlink:href=\"#m133993e851\" y=\"224.64\"/>\r\n      </g>\r\n     </g>\r\n     <g id=\"text_1\">\r\n      <!-- 2 -->\r\n      <g transform=\"translate(71.915144 239.238437)scale(0.1 -0.1)\">\r\n       <defs>\r\n        <path d=\"M 19.1875 8.296875 \r\nL 53.609375 8.296875 \r\nL 53.609375 0 \r\nL 7.328125 0 \r\nL 7.328125 8.296875 \r\nQ 12.9375 14.109375 22.625 23.890625 \r\nQ 32.328125 33.6875 34.8125 36.53125 \r\nQ 39.546875 41.84375 41.421875 45.53125 \r\nQ 43.3125 49.21875 43.3125 52.78125 \r\nQ 43.3125 58.59375 39.234375 62.25 \r\nQ 35.15625 65.921875 28.609375 65.921875 \r\nQ 23.96875 65.921875 18.8125 64.3125 \r\nQ 13.671875 62.703125 7.8125 59.421875 \r\nL 7.8125 69.390625 \r\nQ 13.765625 71.78125 18.9375 73 \r\nQ 24.125 74.21875 28.421875 74.21875 \r\nQ 39.75 74.21875 46.484375 68.546875 \r\nQ 53.21875 62.890625 53.21875 53.421875 \r\nQ 53.21875 48.921875 51.53125 44.890625 \r\nQ 49.859375 40.875 45.40625 35.40625 \r\nQ 44.1875 33.984375 37.640625 27.21875 \r\nQ 31.109375 20.453125 19.1875 8.296875 \r\nz\r\n\" id=\"DejaVuSans-50\"/>\r\n       </defs>\r\n       <use xlink:href=\"#DejaVuSans-50\"/>\r\n      </g>\r\n     </g>\r\n    </g>\r\n    <g id=\"xtick_2\">\r\n     <g id=\"line2d_2\">\r\n      <g>\r\n       <use style=\"stroke:#000000;stroke-width:0.8;\" x=\"121.921569\" xlink:href=\"#m133993e851\" y=\"224.64\"/>\r\n      </g>\r\n     </g>\r\n     <g id=\"text_2\">\r\n      <!-- 4 -->\r\n      <g transform=\"translate(118.740319 239.238437)scale(0.1 -0.1)\">\r\n       <defs>\r\n        <path d=\"M 37.796875 64.3125 \r\nL 12.890625 25.390625 \r\nL 37.796875 25.390625 \r\nz\r\nM 35.203125 72.90625 \r\nL 47.609375 72.90625 \r\nL 47.609375 25.390625 \r\nL 58.015625 25.390625 \r\nL 58.015625 17.1875 \r\nL 47.609375 17.1875 \r\nL 47.609375 0 \r\nL 37.796875 0 \r\nL 37.796875 17.1875 \r\nL 4.890625 17.1875 \r\nL 4.890625 26.703125 \r\nz\r\n\" id=\"DejaVuSans-52\"/>\r\n       </defs>\r\n       <use xlink:href=\"#DejaVuSans-52\"/>\r\n      </g>\r\n     </g>\r\n    </g>\r\n    <g id=\"xtick_3\">\r\n     <g id=\"line2d_3\">\r\n      <g>\r\n       <use style=\"stroke:#000000;stroke-width:0.8;\" x=\"168.746744\" xlink:href=\"#m133993e851\" y=\"224.64\"/>\r\n      </g>\r\n     </g>\r\n     <g id=\"text_3\">\r\n      <!-- 6 -->\r\n      <g transform=\"translate(165.565494 239.238437)scale(0.1 -0.1)\">\r\n       <defs>\r\n        <path d=\"M 33.015625 40.375 \r\nQ 26.375 40.375 22.484375 35.828125 \r\nQ 18.609375 31.296875 18.609375 23.390625 \r\nQ 18.609375 15.53125 22.484375 10.953125 \r\nQ 26.375 6.390625 33.015625 6.390625 \r\nQ 39.65625 6.390625 43.53125 10.953125 \r\nQ 47.40625 15.53125 47.40625 23.390625 \r\nQ 47.40625 31.296875 43.53125 35.828125 \r\nQ 39.65625 40.375 33.015625 40.375 \r\nz\r\nM 52.59375 71.296875 \r\nL 52.59375 62.3125 \r\nQ 48.875 64.0625 45.09375 64.984375 \r\nQ 41.3125 65.921875 37.59375 65.921875 \r\nQ 27.828125 65.921875 22.671875 59.328125 \r\nQ 17.53125 52.734375 16.796875 39.40625 \r\nQ 19.671875 43.65625 24.015625 45.921875 \r\nQ 28.375 48.1875 33.59375 48.1875 \r\nQ 44.578125 48.1875 50.953125 41.515625 \r\nQ 57.328125 34.859375 57.328125 23.390625 \r\nQ 57.328125 12.15625 50.6875 5.359375 \r\nQ 44.046875 -1.421875 33.015625 -1.421875 \r\nQ 20.359375 -1.421875 13.671875 8.265625 \r\nQ 6.984375 17.96875 6.984375 36.375 \r\nQ 6.984375 53.65625 15.1875 63.9375 \r\nQ 23.390625 74.21875 37.203125 74.21875 \r\nQ 40.921875 74.21875 44.703125 73.484375 \r\nQ 48.484375 72.75 52.59375 71.296875 \r\nz\r\n\" id=\"DejaVuSans-54\"/>\r\n       </defs>\r\n       <use xlink:href=\"#DejaVuSans-54\"/>\r\n      </g>\r\n     </g>\r\n    </g>\r\n    <g id=\"xtick_4\">\r\n     <g id=\"line2d_4\">\r\n      <g>\r\n       <use style=\"stroke:#000000;stroke-width:0.8;\" x=\"215.571919\" xlink:href=\"#m133993e851\" y=\"224.64\"/>\r\n      </g>\r\n     </g>\r\n     <g id=\"text_4\">\r\n      <!-- 8 -->\r\n      <g transform=\"translate(212.390669 239.238437)scale(0.1 -0.1)\">\r\n       <defs>\r\n        <path d=\"M 31.78125 34.625 \r\nQ 24.75 34.625 20.71875 30.859375 \r\nQ 16.703125 27.09375 16.703125 20.515625 \r\nQ 16.703125 13.921875 20.71875 10.15625 \r\nQ 24.75 6.390625 31.78125 6.390625 \r\nQ 38.8125 6.390625 42.859375 10.171875 \r\nQ 46.921875 13.96875 46.921875 20.515625 \r\nQ 46.921875 27.09375 42.890625 30.859375 \r\nQ 38.875 34.625 31.78125 34.625 \r\nz\r\nM 21.921875 38.8125 \r\nQ 15.578125 40.375 12.03125 44.71875 \r\nQ 8.5 49.078125 8.5 55.328125 \r\nQ 8.5 64.0625 14.71875 69.140625 \r\nQ 20.953125 74.21875 31.78125 74.21875 \r\nQ 42.671875 74.21875 48.875 69.140625 \r\nQ 55.078125 64.0625 55.078125 55.328125 \r\nQ 55.078125 49.078125 51.53125 44.71875 \r\nQ 48 40.375 41.703125 38.8125 \r\nQ 48.828125 37.15625 52.796875 32.3125 \r\nQ 56.78125 27.484375 56.78125 20.515625 \r\nQ 56.78125 9.90625 50.3125 4.234375 \r\nQ 43.84375 -1.421875 31.78125 -1.421875 \r\nQ 19.734375 -1.421875 13.25 4.234375 \r\nQ 6.78125 9.90625 6.78125 20.515625 \r\nQ 6.78125 27.484375 10.78125 32.3125 \r\nQ 14.796875 37.15625 21.921875 38.8125 \r\nz\r\nM 18.3125 54.390625 \r\nQ 18.3125 48.734375 21.84375 45.5625 \r\nQ 25.390625 42.390625 31.78125 42.390625 \r\nQ 38.140625 42.390625 41.71875 45.5625 \r\nQ 45.3125 48.734375 45.3125 54.390625 \r\nQ 45.3125 60.0625 41.71875 63.234375 \r\nQ 38.140625 66.40625 31.78125 66.40625 \r\nQ 25.390625 66.40625 21.84375 63.234375 \r\nQ 18.3125 60.0625 18.3125 54.390625 \r\nz\r\n\" id=\"DejaVuSans-56\"/>\r\n       </defs>\r\n       <use xlink:href=\"#DejaVuSans-56\"/>\r\n      </g>\r\n     </g>\r\n    </g>\r\n    <g id=\"xtick_5\">\r\n     <g id=\"line2d_5\">\r\n      <g>\r\n       <use style=\"stroke:#000000;stroke-width:0.8;\" x=\"262.397094\" xlink:href=\"#m133993e851\" y=\"224.64\"/>\r\n      </g>\r\n     </g>\r\n     <g id=\"text_5\">\r\n      <!-- 10 -->\r\n      <g transform=\"translate(256.034594 239.238437)scale(0.1 -0.1)\">\r\n       <defs>\r\n        <path d=\"M 12.40625 8.296875 \r\nL 28.515625 8.296875 \r\nL 28.515625 63.921875 \r\nL 10.984375 60.40625 \r\nL 10.984375 69.390625 \r\nL 28.421875 72.90625 \r\nL 38.28125 72.90625 \r\nL 38.28125 8.296875 \r\nL 54.390625 8.296875 \r\nL 54.390625 0 \r\nL 12.40625 0 \r\nz\r\n\" id=\"DejaVuSans-49\"/>\r\n        <path d=\"M 31.78125 66.40625 \r\nQ 24.171875 66.40625 20.328125 58.90625 \r\nQ 16.5 51.421875 16.5 36.375 \r\nQ 16.5 21.390625 20.328125 13.890625 \r\nQ 24.171875 6.390625 31.78125 6.390625 \r\nQ 39.453125 6.390625 43.28125 13.890625 \r\nQ 47.125 21.390625 47.125 36.375 \r\nQ 47.125 51.421875 43.28125 58.90625 \r\nQ 39.453125 66.40625 31.78125 66.40625 \r\nz\r\nM 31.78125 74.21875 \r\nQ 44.046875 74.21875 50.515625 64.515625 \r\nQ 56.984375 54.828125 56.984375 36.375 \r\nQ 56.984375 17.96875 50.515625 8.265625 \r\nQ 44.046875 -1.421875 31.78125 -1.421875 \r\nQ 19.53125 -1.421875 13.0625 8.265625 \r\nQ 6.59375 17.96875 6.59375 36.375 \r\nQ 6.59375 54.828125 13.0625 64.515625 \r\nQ 19.53125 74.21875 31.78125 74.21875 \r\nz\r\n\" id=\"DejaVuSans-48\"/>\r\n       </defs>\r\n       <use xlink:href=\"#DejaVuSans-49\"/>\r\n       <use x=\"63.623047\" xlink:href=\"#DejaVuSans-48\"/>\r\n      </g>\r\n     </g>\r\n    </g>\r\n    <g id=\"xtick_6\">\r\n     <g id=\"line2d_6\">\r\n      <g>\r\n       <use style=\"stroke:#000000;stroke-width:0.8;\" x=\"309.222268\" xlink:href=\"#m133993e851\" y=\"224.64\"/>\r\n      </g>\r\n     </g>\r\n     <g id=\"text_6\">\r\n      <!-- 12 -->\r\n      <g transform=\"translate(302.859768 239.238437)scale(0.1 -0.1)\">\r\n       <use xlink:href=\"#DejaVuSans-49\"/>\r\n       <use x=\"63.623047\" xlink:href=\"#DejaVuSans-50\"/>\r\n      </g>\r\n     </g>\r\n    </g>\r\n    <g id=\"xtick_7\">\r\n     <g id=\"line2d_7\">\r\n      <g>\r\n       <use style=\"stroke:#000000;stroke-width:0.8;\" x=\"356.047443\" xlink:href=\"#m133993e851\" y=\"224.64\"/>\r\n      </g>\r\n     </g>\r\n     <g id=\"text_7\">\r\n      <!-- 14 -->\r\n      <g transform=\"translate(349.684943 239.238437)scale(0.1 -0.1)\">\r\n       <use xlink:href=\"#DejaVuSans-49\"/>\r\n       <use x=\"63.623047\" xlink:href=\"#DejaVuSans-52\"/>\r\n      </g>\r\n     </g>\r\n    </g>\r\n   </g>\r\n   <g id=\"matplotlib.axis_2\">\r\n    <g id=\"ytick_1\">\r\n     <g id=\"line2d_8\">\r\n      <defs>\r\n       <path d=\"M 0 0 \r\nL -3.5 0 \r\n\" id=\"mddb560b5ed\" style=\"stroke:#000000;stroke-width:0.8;\"/>\r\n      </defs>\r\n      <g>\r\n       <use style=\"stroke:#000000;stroke-width:0.8;\" x=\"36.465625\" xlink:href=\"#mddb560b5ed\" y=\"224.64\"/>\r\n      </g>\r\n     </g>\r\n     <g id=\"text_8\">\r\n      <!-- 0.70 -->\r\n      <g transform=\"translate(7.2 228.439219)scale(0.1 -0.1)\">\r\n       <defs>\r\n        <path d=\"M 10.6875 12.40625 \r\nL 21 12.40625 \r\nL 21 0 \r\nL 10.6875 0 \r\nz\r\n\" id=\"DejaVuSans-46\"/>\r\n        <path d=\"M 8.203125 72.90625 \r\nL 55.078125 72.90625 \r\nL 55.078125 68.703125 \r\nL 28.609375 0 \r\nL 18.3125 0 \r\nL 43.21875 64.59375 \r\nL 8.203125 64.59375 \r\nz\r\n\" id=\"DejaVuSans-55\"/>\r\n       </defs>\r\n       <use xlink:href=\"#DejaVuSans-48\"/>\r\n       <use x=\"63.623047\" xlink:href=\"#DejaVuSans-46\"/>\r\n       <use x=\"95.410156\" xlink:href=\"#DejaVuSans-55\"/>\r\n       <use x=\"159.033203\" xlink:href=\"#DejaVuSans-48\"/>\r\n      </g>\r\n     </g>\r\n    </g>\r\n    <g id=\"ytick_2\">\r\n     <g id=\"line2d_9\">\r\n      <g>\r\n       <use style=\"stroke:#000000;stroke-width:0.8;\" x=\"36.465625\" xlink:href=\"#mddb560b5ed\" y=\"190.047273\"/>\r\n      </g>\r\n     </g>\r\n     <g id=\"text_9\">\r\n      <!-- 0.75 -->\r\n      <g transform=\"translate(7.2 193.846491)scale(0.1 -0.1)\">\r\n       <defs>\r\n        <path d=\"M 10.796875 72.90625 \r\nL 49.515625 72.90625 \r\nL 49.515625 64.59375 \r\nL 19.828125 64.59375 \r\nL 19.828125 46.734375 \r\nQ 21.96875 47.46875 24.109375 47.828125 \r\nQ 26.265625 48.1875 28.421875 48.1875 \r\nQ 40.625 48.1875 47.75 41.5 \r\nQ 54.890625 34.8125 54.890625 23.390625 \r\nQ 54.890625 11.625 47.5625 5.09375 \r\nQ 40.234375 -1.421875 26.90625 -1.421875 \r\nQ 22.3125 -1.421875 17.546875 -0.640625 \r\nQ 12.796875 0.140625 7.71875 1.703125 \r\nL 7.71875 11.625 \r\nQ 12.109375 9.234375 16.796875 8.0625 \r\nQ 21.484375 6.890625 26.703125 6.890625 \r\nQ 35.15625 6.890625 40.078125 11.328125 \r\nQ 45.015625 15.765625 45.015625 23.390625 \r\nQ 45.015625 31 40.078125 35.4375 \r\nQ 35.15625 39.890625 26.703125 39.890625 \r\nQ 22.75 39.890625 18.8125 39.015625 \r\nQ 14.890625 38.140625 10.796875 36.28125 \r\nz\r\n\" id=\"DejaVuSans-53\"/>\r\n       </defs>\r\n       <use xlink:href=\"#DejaVuSans-48\"/>\r\n       <use x=\"63.623047\" xlink:href=\"#DejaVuSans-46\"/>\r\n       <use x=\"95.410156\" xlink:href=\"#DejaVuSans-55\"/>\r\n       <use x=\"159.033203\" xlink:href=\"#DejaVuSans-53\"/>\r\n      </g>\r\n     </g>\r\n    </g>\r\n    <g id=\"ytick_3\">\r\n     <g id=\"line2d_10\">\r\n      <g>\r\n       <use style=\"stroke:#000000;stroke-width:0.8;\" x=\"36.465625\" xlink:href=\"#mddb560b5ed\" y=\"155.454545\"/>\r\n      </g>\r\n     </g>\r\n     <g id=\"text_10\">\r\n      <!-- 0.80 -->\r\n      <g transform=\"translate(7.2 159.253764)scale(0.1 -0.1)\">\r\n       <use xlink:href=\"#DejaVuSans-48\"/>\r\n       <use x=\"63.623047\" xlink:href=\"#DejaVuSans-46\"/>\r\n       <use x=\"95.410156\" xlink:href=\"#DejaVuSans-56\"/>\r\n       <use x=\"159.033203\" xlink:href=\"#DejaVuSans-48\"/>\r\n      </g>\r\n     </g>\r\n    </g>\r\n    <g id=\"ytick_4\">\r\n     <g id=\"line2d_11\">\r\n      <g>\r\n       <use style=\"stroke:#000000;stroke-width:0.8;\" x=\"36.465625\" xlink:href=\"#mddb560b5ed\" y=\"120.861818\"/>\r\n      </g>\r\n     </g>\r\n     <g id=\"text_11\">\r\n      <!-- 0.85 -->\r\n      <g transform=\"translate(7.2 124.661037)scale(0.1 -0.1)\">\r\n       <use xlink:href=\"#DejaVuSans-48\"/>\r\n       <use x=\"63.623047\" xlink:href=\"#DejaVuSans-46\"/>\r\n       <use x=\"95.410156\" xlink:href=\"#DejaVuSans-56\"/>\r\n       <use x=\"159.033203\" xlink:href=\"#DejaVuSans-53\"/>\r\n      </g>\r\n     </g>\r\n    </g>\r\n    <g id=\"ytick_5\">\r\n     <g id=\"line2d_12\">\r\n      <g>\r\n       <use style=\"stroke:#000000;stroke-width:0.8;\" x=\"36.465625\" xlink:href=\"#mddb560b5ed\" y=\"86.269091\"/>\r\n      </g>\r\n     </g>\r\n     <g id=\"text_12\">\r\n      <!-- 0.90 -->\r\n      <g transform=\"translate(7.2 90.06831)scale(0.1 -0.1)\">\r\n       <defs>\r\n        <path d=\"M 10.984375 1.515625 \r\nL 10.984375 10.5 \r\nQ 14.703125 8.734375 18.5 7.8125 \r\nQ 22.3125 6.890625 25.984375 6.890625 \r\nQ 35.75 6.890625 40.890625 13.453125 \r\nQ 46.046875 20.015625 46.78125 33.40625 \r\nQ 43.953125 29.203125 39.59375 26.953125 \r\nQ 35.25 24.703125 29.984375 24.703125 \r\nQ 19.046875 24.703125 12.671875 31.3125 \r\nQ 6.296875 37.9375 6.296875 49.421875 \r\nQ 6.296875 60.640625 12.9375 67.421875 \r\nQ 19.578125 74.21875 30.609375 74.21875 \r\nQ 43.265625 74.21875 49.921875 64.515625 \r\nQ 56.59375 54.828125 56.59375 36.375 \r\nQ 56.59375 19.140625 48.40625 8.859375 \r\nQ 40.234375 -1.421875 26.421875 -1.421875 \r\nQ 22.703125 -1.421875 18.890625 -0.6875 \r\nQ 15.09375 0.046875 10.984375 1.515625 \r\nz\r\nM 30.609375 32.421875 \r\nQ 37.25 32.421875 41.125 36.953125 \r\nQ 45.015625 41.5 45.015625 49.421875 \r\nQ 45.015625 57.28125 41.125 61.84375 \r\nQ 37.25 66.40625 30.609375 66.40625 \r\nQ 23.96875 66.40625 20.09375 61.84375 \r\nQ 16.21875 57.28125 16.21875 49.421875 \r\nQ 16.21875 41.5 20.09375 36.953125 \r\nQ 23.96875 32.421875 30.609375 32.421875 \r\nz\r\n\" id=\"DejaVuSans-57\"/>\r\n       </defs>\r\n       <use xlink:href=\"#DejaVuSans-48\"/>\r\n       <use x=\"63.623047\" xlink:href=\"#DejaVuSans-46\"/>\r\n       <use x=\"95.410156\" xlink:href=\"#DejaVuSans-57\"/>\r\n       <use x=\"159.033203\" xlink:href=\"#DejaVuSans-48\"/>\r\n      </g>\r\n     </g>\r\n    </g>\r\n    <g id=\"ytick_6\">\r\n     <g id=\"line2d_13\">\r\n      <g>\r\n       <use style=\"stroke:#000000;stroke-width:0.8;\" x=\"36.465625\" xlink:href=\"#mddb560b5ed\" y=\"51.676364\"/>\r\n      </g>\r\n     </g>\r\n     <g id=\"text_13\">\r\n      <!-- 0.95 -->\r\n      <g transform=\"translate(7.2 55.475582)scale(0.1 -0.1)\">\r\n       <use xlink:href=\"#DejaVuSans-48\"/>\r\n       <use x=\"63.623047\" xlink:href=\"#DejaVuSans-46\"/>\r\n       <use x=\"95.410156\" xlink:href=\"#DejaVuSans-57\"/>\r\n       <use x=\"159.033203\" xlink:href=\"#DejaVuSans-53\"/>\r\n      </g>\r\n     </g>\r\n    </g>\r\n    <g id=\"ytick_7\">\r\n     <g id=\"line2d_14\">\r\n      <g>\r\n       <use style=\"stroke:#000000;stroke-width:0.8;\" x=\"36.465625\" xlink:href=\"#mddb560b5ed\" y=\"17.083636\"/>\r\n      </g>\r\n     </g>\r\n     <g id=\"text_14\">\r\n      <!-- 1.00 -->\r\n      <g transform=\"translate(7.2 20.882855)scale(0.1 -0.1)\">\r\n       <use xlink:href=\"#DejaVuSans-49\"/>\r\n       <use x=\"63.623047\" xlink:href=\"#DejaVuSans-46\"/>\r\n       <use x=\"95.410156\" xlink:href=\"#DejaVuSans-48\"/>\r\n       <use x=\"159.033203\" xlink:href=\"#DejaVuSans-48\"/>\r\n      </g>\r\n     </g>\r\n    </g>\r\n   </g>\r\n   <g id=\"line2d_15\">\r\n    <path clip-path=\"url(#p80e25ad003)\" d=\"M 51.683807 148.865455 \r\nL 75.096394 148.865455 \r\nL 98.508982 148.865455 \r\nL 121.921569 132.392727 \r\nL 145.334156 148.865455 \r\nL 168.746744 181.810909 \r\nL 192.159331 132.392727 \r\nL 215.571919 214.756364 \r\nL 238.984506 165.338182 \r\nL 262.397094 132.392727 \r\nL 285.809681 132.392727 \r\nL 309.222268 165.338182 \r\nL 332.634856 181.810909 \r\nL 356.047443 165.338182 \r\n\" style=\"fill:none;stroke:#1f77b4;stroke-linecap:square;stroke-width:1.5;\"/>\r\n   </g>\r\n   <g id=\"line2d_16\">\r\n    <path clip-path=\"url(#p80e25ad003)\" d=\"M 51.683807 101.456142 \r\nL 75.096394 88.800266 \r\nL 98.508982 67.70714 \r\nL 121.921569 29.739512 \r\nL 145.334156 21.302262 \r\nL 168.746744 17.083636 \r\nL 192.159331 17.083636 \r\nL 215.571919 17.083636 \r\nL 238.984506 17.083636 \r\nL 262.397094 17.083636 \r\nL 285.809681 17.083636 \r\nL 309.222268 17.083636 \r\nL 332.634856 17.083636 \r\nL 356.047443 17.083636 \r\n\" style=\"fill:none;stroke:#ff7f0e;stroke-linecap:square;stroke-width:1.5;\"/>\r\n   </g>\r\n   <g id=\"patch_3\">\r\n    <path d=\"M 36.465625 224.64 \r\nL 36.465625 7.2 \r\n\" style=\"fill:none;stroke:#000000;stroke-linecap:square;stroke-linejoin:miter;stroke-width:0.8;\"/>\r\n   </g>\r\n   <g id=\"patch_4\">\r\n    <path d=\"M 371.265625 224.64 \r\nL 371.265625 7.2 \r\n\" style=\"fill:none;stroke:#000000;stroke-linecap:square;stroke-linejoin:miter;stroke-width:0.8;\"/>\r\n   </g>\r\n   <g id=\"patch_5\">\r\n    <path d=\"M 36.465625 224.64 \r\nL 371.265625 224.64 \r\n\" style=\"fill:none;stroke:#000000;stroke-linecap:square;stroke-linejoin:miter;stroke-width:0.8;\"/>\r\n   </g>\r\n   <g id=\"patch_6\">\r\n    <path d=\"M 36.465625 7.2 \r\nL 371.265625 7.2 \r\n\" style=\"fill:none;stroke:#000000;stroke-linecap:square;stroke-linejoin:miter;stroke-width:0.8;\"/>\r\n   </g>\r\n   <g id=\"legend_1\">\r\n    <g id=\"patch_7\">\r\n     <path d=\"M 43.465625 44.55625 \r\nL 104.659375 44.55625 \r\nQ 106.659375 44.55625 106.659375 42.55625 \r\nL 106.659375 14.2 \r\nQ 106.659375 12.2 104.659375 12.2 \r\nL 43.465625 12.2 \r\nQ 41.465625 12.2 41.465625 14.2 \r\nL 41.465625 42.55625 \r\nQ 41.465625 44.55625 43.465625 44.55625 \r\nz\r\n\" style=\"fill:#ffffff;opacity:0.8;stroke:#cccccc;stroke-linejoin:miter;\"/>\r\n    </g>\r\n    <g id=\"line2d_17\">\r\n     <path d=\"M 45.465625 20.298437 \r\nL 65.465625 20.298437 \r\n\" style=\"fill:none;stroke:#1f77b4;stroke-linecap:square;stroke-width:1.5;\"/>\r\n    </g>\r\n    <g id=\"line2d_18\"/>\r\n    <g id=\"text_15\">\r\n     <!-- teste -->\r\n     <g transform=\"translate(73.465625 23.798437)scale(0.1 -0.1)\">\r\n      <defs>\r\n       <path d=\"M 18.3125 70.21875 \r\nL 18.3125 54.6875 \r\nL 36.8125 54.6875 \r\nL 36.8125 47.703125 \r\nL 18.3125 47.703125 \r\nL 18.3125 18.015625 \r\nQ 18.3125 11.328125 20.140625 9.421875 \r\nQ 21.96875 7.515625 27.59375 7.515625 \r\nL 36.8125 7.515625 \r\nL 36.8125 0 \r\nL 27.59375 0 \r\nQ 17.1875 0 13.234375 3.875 \r\nQ 9.28125 7.765625 9.28125 18.015625 \r\nL 9.28125 47.703125 \r\nL 2.6875 47.703125 \r\nL 2.6875 54.6875 \r\nL 9.28125 54.6875 \r\nL 9.28125 70.21875 \r\nz\r\n\" id=\"DejaVuSans-116\"/>\r\n       <path d=\"M 56.203125 29.59375 \r\nL 56.203125 25.203125 \r\nL 14.890625 25.203125 \r\nQ 15.484375 15.921875 20.484375 11.0625 \r\nQ 25.484375 6.203125 34.421875 6.203125 \r\nQ 39.59375 6.203125 44.453125 7.46875 \r\nQ 49.3125 8.734375 54.109375 11.28125 \r\nL 54.109375 2.78125 \r\nQ 49.265625 0.734375 44.1875 -0.34375 \r\nQ 39.109375 -1.421875 33.890625 -1.421875 \r\nQ 20.796875 -1.421875 13.15625 6.1875 \r\nQ 5.515625 13.8125 5.515625 26.8125 \r\nQ 5.515625 40.234375 12.765625 48.109375 \r\nQ 20.015625 56 32.328125 56 \r\nQ 43.359375 56 49.78125 48.890625 \r\nQ 56.203125 41.796875 56.203125 29.59375 \r\nz\r\nM 47.21875 32.234375 \r\nQ 47.125 39.59375 43.09375 43.984375 \r\nQ 39.0625 48.390625 32.421875 48.390625 \r\nQ 24.90625 48.390625 20.390625 44.140625 \r\nQ 15.875 39.890625 15.1875 32.171875 \r\nz\r\n\" id=\"DejaVuSans-101\"/>\r\n       <path d=\"M 44.28125 53.078125 \r\nL 44.28125 44.578125 \r\nQ 40.484375 46.53125 36.375 47.5 \r\nQ 32.28125 48.484375 27.875 48.484375 \r\nQ 21.1875 48.484375 17.84375 46.4375 \r\nQ 14.5 44.390625 14.5 40.28125 \r\nQ 14.5 37.15625 16.890625 35.375 \r\nQ 19.28125 33.59375 26.515625 31.984375 \r\nL 29.59375 31.296875 \r\nQ 39.15625 29.25 43.1875 25.515625 \r\nQ 47.21875 21.78125 47.21875 15.09375 \r\nQ 47.21875 7.46875 41.1875 3.015625 \r\nQ 35.15625 -1.421875 24.609375 -1.421875 \r\nQ 20.21875 -1.421875 15.453125 -0.5625 \r\nQ 10.6875 0.296875 5.421875 2 \r\nL 5.421875 11.28125 \r\nQ 10.40625 8.6875 15.234375 7.390625 \r\nQ 20.0625 6.109375 24.8125 6.109375 \r\nQ 31.15625 6.109375 34.5625 8.28125 \r\nQ 37.984375 10.453125 37.984375 14.40625 \r\nQ 37.984375 18.0625 35.515625 20.015625 \r\nQ 33.0625 21.96875 24.703125 23.78125 \r\nL 21.578125 24.515625 \r\nQ 13.234375 26.265625 9.515625 29.90625 \r\nQ 5.8125 33.546875 5.8125 39.890625 \r\nQ 5.8125 47.609375 11.28125 51.796875 \r\nQ 16.75 56 26.8125 56 \r\nQ 31.78125 56 36.171875 55.265625 \r\nQ 40.578125 54.546875 44.28125 53.078125 \r\nz\r\n\" id=\"DejaVuSans-115\"/>\r\n      </defs>\r\n      <use xlink:href=\"#DejaVuSans-116\"/>\r\n      <use x=\"39.208984\" xlink:href=\"#DejaVuSans-101\"/>\r\n      <use x=\"100.732422\" xlink:href=\"#DejaVuSans-115\"/>\r\n      <use x=\"152.832031\" xlink:href=\"#DejaVuSans-116\"/>\r\n      <use x=\"192.041016\" xlink:href=\"#DejaVuSans-101\"/>\r\n     </g>\r\n    </g>\r\n    <g id=\"line2d_19\">\r\n     <path d=\"M 45.465625 34.976562 \r\nL 65.465625 34.976562 \r\n\" style=\"fill:none;stroke:#ff7f0e;stroke-linecap:square;stroke-width:1.5;\"/>\r\n    </g>\r\n    <g id=\"line2d_20\"/>\r\n    <g id=\"text_16\">\r\n     <!-- treino -->\r\n     <g transform=\"translate(73.465625 38.476562)scale(0.1 -0.1)\">\r\n      <defs>\r\n       <path d=\"M 41.109375 46.296875 \r\nQ 39.59375 47.171875 37.8125 47.578125 \r\nQ 36.03125 48 33.890625 48 \r\nQ 26.265625 48 22.1875 43.046875 \r\nQ 18.109375 38.09375 18.109375 28.8125 \r\nL 18.109375 0 \r\nL 9.078125 0 \r\nL 9.078125 54.6875 \r\nL 18.109375 54.6875 \r\nL 18.109375 46.1875 \r\nQ 20.953125 51.171875 25.484375 53.578125 \r\nQ 30.03125 56 36.53125 56 \r\nQ 37.453125 56 38.578125 55.875 \r\nQ 39.703125 55.765625 41.0625 55.515625 \r\nz\r\n\" id=\"DejaVuSans-114\"/>\r\n       <path d=\"M 9.421875 54.6875 \r\nL 18.40625 54.6875 \r\nL 18.40625 0 \r\nL 9.421875 0 \r\nz\r\nM 9.421875 75.984375 \r\nL 18.40625 75.984375 \r\nL 18.40625 64.59375 \r\nL 9.421875 64.59375 \r\nz\r\n\" id=\"DejaVuSans-105\"/>\r\n       <path d=\"M 54.890625 33.015625 \r\nL 54.890625 0 \r\nL 45.90625 0 \r\nL 45.90625 32.71875 \r\nQ 45.90625 40.484375 42.875 44.328125 \r\nQ 39.84375 48.1875 33.796875 48.1875 \r\nQ 26.515625 48.1875 22.3125 43.546875 \r\nQ 18.109375 38.921875 18.109375 30.90625 \r\nL 18.109375 0 \r\nL 9.078125 0 \r\nL 9.078125 54.6875 \r\nL 18.109375 54.6875 \r\nL 18.109375 46.1875 \r\nQ 21.34375 51.125 25.703125 53.5625 \r\nQ 30.078125 56 35.796875 56 \r\nQ 45.21875 56 50.046875 50.171875 \r\nQ 54.890625 44.34375 54.890625 33.015625 \r\nz\r\n\" id=\"DejaVuSans-110\"/>\r\n       <path d=\"M 30.609375 48.390625 \r\nQ 23.390625 48.390625 19.1875 42.75 \r\nQ 14.984375 37.109375 14.984375 27.296875 \r\nQ 14.984375 17.484375 19.15625 11.84375 \r\nQ 23.34375 6.203125 30.609375 6.203125 \r\nQ 37.796875 6.203125 41.984375 11.859375 \r\nQ 46.1875 17.53125 46.1875 27.296875 \r\nQ 46.1875 37.015625 41.984375 42.703125 \r\nQ 37.796875 48.390625 30.609375 48.390625 \r\nz\r\nM 30.609375 56 \r\nQ 42.328125 56 49.015625 48.375 \r\nQ 55.71875 40.765625 55.71875 27.296875 \r\nQ 55.71875 13.875 49.015625 6.21875 \r\nQ 42.328125 -1.421875 30.609375 -1.421875 \r\nQ 18.84375 -1.421875 12.171875 6.21875 \r\nQ 5.515625 13.875 5.515625 27.296875 \r\nQ 5.515625 40.765625 12.171875 48.375 \r\nQ 18.84375 56 30.609375 56 \r\nz\r\n\" id=\"DejaVuSans-111\"/>\r\n      </defs>\r\n      <use xlink:href=\"#DejaVuSans-116\"/>\r\n      <use x=\"39.208984\" xlink:href=\"#DejaVuSans-114\"/>\r\n      <use x=\"78.072266\" xlink:href=\"#DejaVuSans-101\"/>\r\n      <use x=\"139.595703\" xlink:href=\"#DejaVuSans-105\"/>\r\n      <use x=\"167.378906\" xlink:href=\"#DejaVuSans-110\"/>\r\n      <use x=\"230.757812\" xlink:href=\"#DejaVuSans-111\"/>\r\n     </g>\r\n    </g>\r\n   </g>\r\n  </g>\r\n </g>\r\n <defs>\r\n  <clipPath id=\"p80e25ad003\">\r\n   <rect height=\"217.44\" width=\"334.8\" x=\"36.465625\" y=\"7.2\"/>\r\n  </clipPath>\r\n </defs>\r\n</svg>\r\n",
            "image/png": "[encoded data removed]"
          },
          "metadata": {
            "needs_background": "light"
          }
        }
      ],
      "source": [
        "sns.lineplot(x=range(1,15), y=teste, label='teste')\n",
        "sns.lineplot(x=range(1,15), y=treino, label='treino')\n",
        "plt.show()"
      ]
    },
    {
      "cell_type": "code",
      "execution_count": 206,
      "metadata": {},
      "outputs": [
        {
          "output_type": "execute_result",
          "data": {
            "text/plain": [
              "0.8095238095238095"
            ]
          },
          "metadata": {},
          "execution_count": 206
        }
      ],
      "source": [
        "from sklearn.linear_model import SGDClassifier\n",
        "modelo_sgd = SGDClassifier(loss=\"modified_huber\", penalty=\"l1\",max_iter=30)\n",
        "modelo_sgd.fit(x_treino,y_treino)\n",
        "modelo_sgd.score(x_teste,y_teste)"
      ]
    },
    {
      "cell_type": "code",
      "execution_count": 187,
      "metadata": {},
      "outputs": [
        {
          "output_type": "execute_result",
          "data": {
            "text/plain": [
              "0.8095238095238095"
            ]
          },
          "metadata": {},
          "execution_count": 187
        }
      ],
      "source": [
        "modelo_sgd.score(x_teste,y_teste)"
      ]
    },
    {
      "source": [
        "# Referências \n",
        "## Artigos\n",
        "* Artigo sobre histogramas: https://www.alura.com.br/artigos/o-que-e-um-histograma?utm_source=gnarus&utm_medium=timeline\n",
        "* Artigo sobre visualização de Boxplot e Candlestick: https://www.monolitonimbus.com.br/graficos-boxplot-e-candlestick/\n",
        "## Documentação e Sites\n",
        "* Exemplos de Grid: https://www.python-course.eu/matplotlib_gridspec.php\n",
        "* Documentação do comando \"merge\": https://pandas.pydata.org/docs/reference/api/pandas.DataFrame.merge.html\n",
        "* Documentação Sklearn regressão linear: https://scikit-learn.org/stable/modules/generated/sklearn.linear_model.LinearRegression.html\n",
        "* Documentação Sklearn DecisionTreeClassifier: https://scikit-learn.org/stable/modules/generated/sklearn.tree.DecisionTreeClassifier.html\n",
        "* Documentação Sklearn RandomForestClassifier: https://scikit-learn.org/stable/modules/generated/sklearn.ensemble.RandomForestClassifier.html\n",
        "* Documentação Sklearn DummyClassifier: https://scikit-learn.org/stable/modules/generated/sklearn.dummy.DummyClassifier.html\n",
        "* Documentação Sklearn accuracy_score: https://scikit-learn.org/stable/modules/generated/sklearn.metrics.accuracy_score.html\n",
        "## Vídeos\n",
        "* Vídeo sobre boxplot (Portal da Matemática OBMEP): https://www.youtube.com/watch?v=S6x__fjofxM"
      ],
      "cell_type": "markdown",
      "metadata": {}
    }
  ]
}